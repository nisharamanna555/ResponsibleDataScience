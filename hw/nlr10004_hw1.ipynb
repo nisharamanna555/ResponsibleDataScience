{
 "cells": [
  {
   "cell_type": "code",
   "execution_count": 1,
   "metadata": {
    "executionInfo": {
     "elapsed": 8668,
     "status": "ok",
     "timestamp": 1707176908929,
     "user": {
      "displayName": "Lucas Rosenblatt",
      "userId": "02197960479707249477"
     },
     "user_tz": 300
    },
    "id": "PmmFUvLx1bDU"
   },
   "outputs": [],
   "source": [
    "%%capture\n",
    "!pip install fairlearn"
   ]
  },
  {
   "cell_type": "code",
   "execution_count": 3,
   "metadata": {
    "executionInfo": {
     "elapsed": 2463,
     "status": "ok",
     "timestamp": 1707176911388,
     "user": {
      "displayName": "Lucas Rosenblatt",
      "userId": "02197960479707249477"
     },
     "user_tz": 300
    },
    "id": "qOU_nFs11rFc"
   },
   "outputs": [],
   "source": [
    "import numpy as np\n",
    "from IPython.display import display, Markdown, Latex\n",
    "import pandas as pd\n",
    "import matplotlib.pyplot as plt\n",
    "import seaborn as sns\n",
    "\n",
    "from sklearn.preprocessing import MinMaxScaler\n",
    "from sklearn.model_selection import train_test_split\n",
    "from sklearn.ensemble import RandomForestClassifier\n",
    "from sklearn.metrics import accuracy_score, precision_score, recall_score\n",
    "\n",
    "from fairlearn.postprocessing import ThresholdOptimizer\n",
    "from fairlearn.preprocessing import CorrelationRemover\n",
    "from fairlearn.adversarial import AdversarialFairnessClassifier\n",
    "from fairlearn.metrics import MetricFrame\n",
    "import fairlearn.datasets as fdata\n",
    "from fairlearn.metrics import (demographic_parity_difference, demographic_parity_ratio,\n",
    "                               selection_rate_difference, false_negative_rate_difference,\n",
    "                               false_positive_rate_difference, equalized_odds_ratio,\n",
    "                               false_negative_rate, false_positive_rate)"
   ]
  },
  {
   "cell_type": "markdown",
   "metadata": {
    "id": "YDvO9hnirHDv"
   },
   "source": [
    "## NOTE: If the top two cells give you errors:\n",
    "### 1. Open `Runtime` in the top bar\n",
    "### 2. Press `Restart session`\n",
    "### 3. Try running the cells again\n",
    "#### (This is not the same thing as reloading the page!)\n",
    "\n",
    "(if this still doesn't work, post a **private** message on Piazza or come to hours)"
   ]
  },
  {
   "cell_type": "markdown",
   "metadata": {
    "id": "_4uCde0xDNZp"
   },
   "source": [
    "# Load and preprocess the data"
   ]
  },
  {
   "cell_type": "code",
   "execution_count": 4,
   "metadata": {
    "cellView": "form",
    "colab": {
     "base_uri": "https://localhost:8080/",
     "height": 221
    },
    "executionInfo": {
     "elapsed": 4835,
     "status": "ok",
     "timestamp": 1707177007490,
     "user": {
      "displayName": "Lucas Rosenblatt",
      "userId": "02197960479707249477"
     },
     "user_tz": 300
    },
    "id": "MWqwAwww1-sa",
    "outputId": "114afe20-4832-4881-b78f-ece9043a4c7b"
   },
   "outputs": [
    {
     "data": {
      "text/markdown": [
       "The \"Diabetes 130-Hospitals\" dataset represents 10 years of clinical care at 130 U.S. hospitals and delivery networks, collected from 1999 to 2008. Each record represents the hospital admission record for a patient diagnosed with diabetes whose stay lasted between one to fourteen days. The features describing each encounter include demographics, diagnoses, diabetic medications, number of visits in the year preceding the encounter, and payer information, as well as whether the patient was readmitted after release, and whether the readmission occurred within 30 days of the release.\n",
       "\n",
       "The original \"Diabetes 130-Hospitals\" dataset was collected by Beata Strack, Jonathan P. DeShazo, Chris Gennings, Juan L. Olmo, Sebastian Ventura, Krzysztof J. Cios, and John N. Clore in 2014.\n",
       "\n",
       "This version of the dataset was derived by the Fairlearn team for the SciPy 2021 tutorial \"Fairness in AI Systems: From social context to practice using Fairlearn\". In this version, the target variable \"readmitted\" is binarized into whether the patient was re-admitted within thirty days. The full dataset pre-processing script can be found on GitHub: https://github.com/fairlearn/talks/blob/main/2021_scipy_tutorial/preprocess.py\n",
       "\n",
       "Downloaded from openml.org."
      ],
      "text/plain": [
       "<IPython.core.display.Markdown object>"
      ]
     },
     "metadata": {},
     "output_type": "display_data"
    }
   ],
   "source": [
    "#@markdown Load and read about the dataset.\n",
    "# get datast from fairlearn and show description\n",
    "dataset = fdata.fetch_diabetes_hospital()\n",
    "\n",
    "display(Markdown(dataset.DESCR))\n",
    "\n",
    "# save dataframe and features\n",
    "x_raw = dataset.data\n",
    "# y_raw = np.array(dataset.target)\n",
    "feature_names = dataset.feature_names"
   ]
  },
  {
   "cell_type": "markdown",
   "metadata": {
    "id": "-2H46GsmJ2qg"
   },
   "source": [
    "You can read more about the dataset [here](https://fairlearn.org/main/user_guide/datasets/diabetes_hospital_data.html). In this description, we see that two features, `readmitted` and `readmit_binary`, are other representations of the same outcome, so we drop them from the set of predictors."
   ]
  },
  {
   "cell_type": "code",
   "execution_count": 4,
   "metadata": {
    "cellView": "form",
    "executionInfo": {
     "elapsed": 11,
     "status": "ok",
     "timestamp": 1707177007490,
     "user": {
      "displayName": "Lucas Rosenblatt",
      "userId": "02197960479707249477"
     },
     "user_tz": 300
    },
    "id": "efDlc2njeMy7"
   },
   "outputs": [],
   "source": [
    "#@markdown Down sample to make runtimes reasonable\n",
    "x_raw = x_raw.sample(frac=0.1, random_state=123)"
   ]
  },
  {
   "cell_type": "code",
   "execution_count": 5,
   "metadata": {
    "executionInfo": {
     "elapsed": 10,
     "status": "ok",
     "timestamp": 1707177007490,
     "user": {
      "displayName": "Lucas Rosenblatt",
      "userId": "02197960479707249477"
     },
     "user_tz": 300
    },
    "id": "Nu8TjEmUKGgQ"
   },
   "outputs": [],
   "source": [
    "y_raw = x_raw['readmit_binary']\n",
    "x_raw = x_raw.drop(columns=['readmitted', 'readmit_binary'])\n",
    "feature_names = feature_names[:-2]"
   ]
  },
  {
   "cell_type": "code",
   "execution_count": 6,
   "metadata": {
    "cellView": "form",
    "colab": {
     "base_uri": "https://localhost:8080/",
     "height": 429
    },
    "executionInfo": {
     "elapsed": 11,
     "status": "ok",
     "timestamp": 1707177007491,
     "user": {
      "displayName": "Lucas Rosenblatt",
      "userId": "02197960479707249477"
     },
     "user_tz": 300
    },
    "id": "VdVRFS3K2f7W",
    "outputId": "81904594-9972-408d-d34e-3201d473610e"
   },
   "outputs": [
    {
     "data": {
      "text/html": [
       "\n",
       "  <div id=\"df-95bf0502-68fd-47b6-9494-890245a63adf\" class=\"colab-df-container\">\n",
       "    <div>\n",
       "<style scoped>\n",
       "    .dataframe tbody tr th:only-of-type {\n",
       "        vertical-align: middle;\n",
       "    }\n",
       "\n",
       "    .dataframe tbody tr th {\n",
       "        vertical-align: top;\n",
       "    }\n",
       "\n",
       "    .dataframe thead th {\n",
       "        text-align: right;\n",
       "    }\n",
       "</style>\n",
       "<table border=\"1\" class=\"dataframe\">\n",
       "  <thead>\n",
       "    <tr style=\"text-align: right;\">\n",
       "      <th></th>\n",
       "      <th>race</th>\n",
       "      <th>gender</th>\n",
       "      <th>age</th>\n",
       "      <th>discharge_disposition_id</th>\n",
       "      <th>admission_source_id</th>\n",
       "      <th>time_in_hospital</th>\n",
       "      <th>medical_specialty</th>\n",
       "      <th>num_lab_procedures</th>\n",
       "      <th>num_procedures</th>\n",
       "      <th>num_medications</th>\n",
       "      <th>...</th>\n",
       "      <th>max_glu_serum</th>\n",
       "      <th>A1Cresult</th>\n",
       "      <th>insulin</th>\n",
       "      <th>change</th>\n",
       "      <th>diabetesMed</th>\n",
       "      <th>medicare</th>\n",
       "      <th>medicaid</th>\n",
       "      <th>had_emergency</th>\n",
       "      <th>had_inpatient_days</th>\n",
       "      <th>had_outpatient_days</th>\n",
       "    </tr>\n",
       "  </thead>\n",
       "  <tbody>\n",
       "    <tr>\n",
       "      <th>65884</th>\n",
       "      <td>Caucasian</td>\n",
       "      <td>Male</td>\n",
       "      <td>'Over 60 years'</td>\n",
       "      <td>'Discharged to Home'</td>\n",
       "      <td>Emergency</td>\n",
       "      <td>3</td>\n",
       "      <td>Missing</td>\n",
       "      <td>49</td>\n",
       "      <td>6</td>\n",
       "      <td>27</td>\n",
       "      <td>...</td>\n",
       "      <td>NaN</td>\n",
       "      <td>NaN</td>\n",
       "      <td>Up</td>\n",
       "      <td>Ch</td>\n",
       "      <td>Yes</td>\n",
       "      <td>False</td>\n",
       "      <td>False</td>\n",
       "      <td>False</td>\n",
       "      <td>True</td>\n",
       "      <td>False</td>\n",
       "    </tr>\n",
       "    <tr>\n",
       "      <th>86278</th>\n",
       "      <td>Caucasian</td>\n",
       "      <td>Female</td>\n",
       "      <td>'Over 60 years'</td>\n",
       "      <td>Other</td>\n",
       "      <td>Referral</td>\n",
       "      <td>5</td>\n",
       "      <td>Missing</td>\n",
       "      <td>57</td>\n",
       "      <td>0</td>\n",
       "      <td>21</td>\n",
       "      <td>...</td>\n",
       "      <td>NaN</td>\n",
       "      <td>NaN</td>\n",
       "      <td>No</td>\n",
       "      <td>Ch</td>\n",
       "      <td>Yes</td>\n",
       "      <td>True</td>\n",
       "      <td>False</td>\n",
       "      <td>False</td>\n",
       "      <td>True</td>\n",
       "      <td>False</td>\n",
       "    </tr>\n",
       "    <tr>\n",
       "      <th>30000</th>\n",
       "      <td>Caucasian</td>\n",
       "      <td>Male</td>\n",
       "      <td>'30-60 years'</td>\n",
       "      <td>'Discharged to Home'</td>\n",
       "      <td>Other</td>\n",
       "      <td>4</td>\n",
       "      <td>Other</td>\n",
       "      <td>37</td>\n",
       "      <td>2</td>\n",
       "      <td>9</td>\n",
       "      <td>...</td>\n",
       "      <td>NaN</td>\n",
       "      <td>NaN</td>\n",
       "      <td>No</td>\n",
       "      <td>No</td>\n",
       "      <td>No</td>\n",
       "      <td>False</td>\n",
       "      <td>False</td>\n",
       "      <td>False</td>\n",
       "      <td>False</td>\n",
       "      <td>False</td>\n",
       "    </tr>\n",
       "    <tr>\n",
       "      <th>51185</th>\n",
       "      <td>Caucasian</td>\n",
       "      <td>Male</td>\n",
       "      <td>'30-60 years'</td>\n",
       "      <td>Other</td>\n",
       "      <td>Other</td>\n",
       "      <td>9</td>\n",
       "      <td>InternalMedicine</td>\n",
       "      <td>61</td>\n",
       "      <td>6</td>\n",
       "      <td>27</td>\n",
       "      <td>...</td>\n",
       "      <td>NaN</td>\n",
       "      <td>&gt;8</td>\n",
       "      <td>No</td>\n",
       "      <td>Ch</td>\n",
       "      <td>Yes</td>\n",
       "      <td>False</td>\n",
       "      <td>False</td>\n",
       "      <td>True</td>\n",
       "      <td>False</td>\n",
       "      <td>True</td>\n",
       "    </tr>\n",
       "    <tr>\n",
       "      <th>53902</th>\n",
       "      <td>Caucasian</td>\n",
       "      <td>Female</td>\n",
       "      <td>'30-60 years'</td>\n",
       "      <td>'Discharged to Home'</td>\n",
       "      <td>Referral</td>\n",
       "      <td>7</td>\n",
       "      <td>Other</td>\n",
       "      <td>23</td>\n",
       "      <td>0</td>\n",
       "      <td>13</td>\n",
       "      <td>...</td>\n",
       "      <td>NaN</td>\n",
       "      <td>NaN</td>\n",
       "      <td>No</td>\n",
       "      <td>No</td>\n",
       "      <td>Yes</td>\n",
       "      <td>True</td>\n",
       "      <td>False</td>\n",
       "      <td>True</td>\n",
       "      <td>True</td>\n",
       "      <td>False</td>\n",
       "    </tr>\n",
       "  </tbody>\n",
       "</table>\n",
       "<p>5 rows × 22 columns</p>\n",
       "</div>\n",
       "    <div class=\"colab-df-buttons\">\n",
       "\n",
       "  <div class=\"colab-df-container\">\n",
       "    <button class=\"colab-df-convert\" onclick=\"convertToInteractive('df-95bf0502-68fd-47b6-9494-890245a63adf')\"\n",
       "            title=\"Convert this dataframe to an interactive table.\"\n",
       "            style=\"display:none;\">\n",
       "\n",
       "  <svg xmlns=\"http://www.w3.org/2000/svg\" height=\"24px\" viewBox=\"0 -960 960 960\">\n",
       "    <path d=\"M120-120v-720h720v720H120Zm60-500h600v-160H180v160Zm220 220h160v-160H400v160Zm0 220h160v-160H400v160ZM180-400h160v-160H180v160Zm440 0h160v-160H620v160ZM180-180h160v-160H180v160Zm440 0h160v-160H620v160Z\"/>\n",
       "  </svg>\n",
       "    </button>\n",
       "\n",
       "  <style>\n",
       "    .colab-df-container {\n",
       "      display:flex;\n",
       "      gap: 12px;\n",
       "    }\n",
       "\n",
       "    .colab-df-convert {\n",
       "      background-color: #E8F0FE;\n",
       "      border: none;\n",
       "      border-radius: 50%;\n",
       "      cursor: pointer;\n",
       "      display: none;\n",
       "      fill: #1967D2;\n",
       "      height: 32px;\n",
       "      padding: 0 0 0 0;\n",
       "      width: 32px;\n",
       "    }\n",
       "\n",
       "    .colab-df-convert:hover {\n",
       "      background-color: #E2EBFA;\n",
       "      box-shadow: 0px 1px 2px rgba(60, 64, 67, 0.3), 0px 1px 3px 1px rgba(60, 64, 67, 0.15);\n",
       "      fill: #174EA6;\n",
       "    }\n",
       "\n",
       "    .colab-df-buttons div {\n",
       "      margin-bottom: 4px;\n",
       "    }\n",
       "\n",
       "    [theme=dark] .colab-df-convert {\n",
       "      background-color: #3B4455;\n",
       "      fill: #D2E3FC;\n",
       "    }\n",
       "\n",
       "    [theme=dark] .colab-df-convert:hover {\n",
       "      background-color: #434B5C;\n",
       "      box-shadow: 0px 1px 3px 1px rgba(0, 0, 0, 0.15);\n",
       "      filter: drop-shadow(0px 1px 2px rgba(0, 0, 0, 0.3));\n",
       "      fill: #FFFFFF;\n",
       "    }\n",
       "  </style>\n",
       "\n",
       "    <script>\n",
       "      const buttonEl =\n",
       "        document.querySelector('#df-95bf0502-68fd-47b6-9494-890245a63adf button.colab-df-convert');\n",
       "      buttonEl.style.display =\n",
       "        google.colab.kernel.accessAllowed ? 'block' : 'none';\n",
       "\n",
       "      async function convertToInteractive(key) {\n",
       "        const element = document.querySelector('#df-95bf0502-68fd-47b6-9494-890245a63adf');\n",
       "        const dataTable =\n",
       "          await google.colab.kernel.invokeFunction('convertToInteractive',\n",
       "                                                    [key], {});\n",
       "        if (!dataTable) return;\n",
       "\n",
       "        const docLinkHtml = 'Like what you see? Visit the ' +\n",
       "          '<a target=\"_blank\" href=https://colab.research.google.com/notebooks/data_table.ipynb>data table notebook</a>'\n",
       "          + ' to learn more about interactive tables.';\n",
       "        element.innerHTML = '';\n",
       "        dataTable['output_type'] = 'display_data';\n",
       "        await google.colab.output.renderOutput(dataTable, element);\n",
       "        const docLink = document.createElement('div');\n",
       "        docLink.innerHTML = docLinkHtml;\n",
       "        element.appendChild(docLink);\n",
       "      }\n",
       "    </script>\n",
       "  </div>\n",
       "\n",
       "\n",
       "<div id=\"df-91168051-a140-440c-92f2-8f33ca4bf3cf\">\n",
       "  <button class=\"colab-df-quickchart\" onclick=\"quickchart('df-91168051-a140-440c-92f2-8f33ca4bf3cf')\"\n",
       "            title=\"Suggest charts\"\n",
       "            style=\"display:none;\">\n",
       "\n",
       "<svg xmlns=\"http://www.w3.org/2000/svg\" height=\"24px\"viewBox=\"0 0 24 24\"\n",
       "     width=\"24px\">\n",
       "    <g>\n",
       "        <path d=\"M19 3H5c-1.1 0-2 .9-2 2v14c0 1.1.9 2 2 2h14c1.1 0 2-.9 2-2V5c0-1.1-.9-2-2-2zM9 17H7v-7h2v7zm4 0h-2V7h2v10zm4 0h-2v-4h2v4z\"/>\n",
       "    </g>\n",
       "</svg>\n",
       "  </button>\n",
       "\n",
       "<style>\n",
       "  .colab-df-quickchart {\n",
       "      --bg-color: #E8F0FE;\n",
       "      --fill-color: #1967D2;\n",
       "      --hover-bg-color: #E2EBFA;\n",
       "      --hover-fill-color: #174EA6;\n",
       "      --disabled-fill-color: #AAA;\n",
       "      --disabled-bg-color: #DDD;\n",
       "  }\n",
       "\n",
       "  [theme=dark] .colab-df-quickchart {\n",
       "      --bg-color: #3B4455;\n",
       "      --fill-color: #D2E3FC;\n",
       "      --hover-bg-color: #434B5C;\n",
       "      --hover-fill-color: #FFFFFF;\n",
       "      --disabled-bg-color: #3B4455;\n",
       "      --disabled-fill-color: #666;\n",
       "  }\n",
       "\n",
       "  .colab-df-quickchart {\n",
       "    background-color: var(--bg-color);\n",
       "    border: none;\n",
       "    border-radius: 50%;\n",
       "    cursor: pointer;\n",
       "    display: none;\n",
       "    fill: var(--fill-color);\n",
       "    height: 32px;\n",
       "    padding: 0;\n",
       "    width: 32px;\n",
       "  }\n",
       "\n",
       "  .colab-df-quickchart:hover {\n",
       "    background-color: var(--hover-bg-color);\n",
       "    box-shadow: 0 1px 2px rgba(60, 64, 67, 0.3), 0 1px 3px 1px rgba(60, 64, 67, 0.15);\n",
       "    fill: var(--button-hover-fill-color);\n",
       "  }\n",
       "\n",
       "  .colab-df-quickchart-complete:disabled,\n",
       "  .colab-df-quickchart-complete:disabled:hover {\n",
       "    background-color: var(--disabled-bg-color);\n",
       "    fill: var(--disabled-fill-color);\n",
       "    box-shadow: none;\n",
       "  }\n",
       "\n",
       "  .colab-df-spinner {\n",
       "    border: 2px solid var(--fill-color);\n",
       "    border-color: transparent;\n",
       "    border-bottom-color: var(--fill-color);\n",
       "    animation:\n",
       "      spin 1s steps(1) infinite;\n",
       "  }\n",
       "\n",
       "  @keyframes spin {\n",
       "    0% {\n",
       "      border-color: transparent;\n",
       "      border-bottom-color: var(--fill-color);\n",
       "      border-left-color: var(--fill-color);\n",
       "    }\n",
       "    20% {\n",
       "      border-color: transparent;\n",
       "      border-left-color: var(--fill-color);\n",
       "      border-top-color: var(--fill-color);\n",
       "    }\n",
       "    30% {\n",
       "      border-color: transparent;\n",
       "      border-left-color: var(--fill-color);\n",
       "      border-top-color: var(--fill-color);\n",
       "      border-right-color: var(--fill-color);\n",
       "    }\n",
       "    40% {\n",
       "      border-color: transparent;\n",
       "      border-right-color: var(--fill-color);\n",
       "      border-top-color: var(--fill-color);\n",
       "    }\n",
       "    60% {\n",
       "      border-color: transparent;\n",
       "      border-right-color: var(--fill-color);\n",
       "    }\n",
       "    80% {\n",
       "      border-color: transparent;\n",
       "      border-right-color: var(--fill-color);\n",
       "      border-bottom-color: var(--fill-color);\n",
       "    }\n",
       "    90% {\n",
       "      border-color: transparent;\n",
       "      border-bottom-color: var(--fill-color);\n",
       "    }\n",
       "  }\n",
       "</style>\n",
       "\n",
       "  <script>\n",
       "    async function quickchart(key) {\n",
       "      const quickchartButtonEl =\n",
       "        document.querySelector('#' + key + ' button');\n",
       "      quickchartButtonEl.disabled = true;  // To prevent multiple clicks.\n",
       "      quickchartButtonEl.classList.add('colab-df-spinner');\n",
       "      try {\n",
       "        const charts = await google.colab.kernel.invokeFunction(\n",
       "            'suggestCharts', [key], {});\n",
       "      } catch (error) {\n",
       "        console.error('Error during call to suggestCharts:', error);\n",
       "      }\n",
       "      quickchartButtonEl.classList.remove('colab-df-spinner');\n",
       "      quickchartButtonEl.classList.add('colab-df-quickchart-complete');\n",
       "    }\n",
       "    (() => {\n",
       "      let quickchartButtonEl =\n",
       "        document.querySelector('#df-91168051-a140-440c-92f2-8f33ca4bf3cf button');\n",
       "      quickchartButtonEl.style.display =\n",
       "        google.colab.kernel.accessAllowed ? 'block' : 'none';\n",
       "    })();\n",
       "  </script>\n",
       "</div>\n",
       "    </div>\n",
       "  </div>\n"
      ],
      "text/plain": [
       "            race  gender              age discharge_disposition_id  \\\n",
       "65884  Caucasian    Male  'Over 60 years'     'Discharged to Home'   \n",
       "86278  Caucasian  Female  'Over 60 years'                    Other   \n",
       "30000  Caucasian    Male    '30-60 years'     'Discharged to Home'   \n",
       "51185  Caucasian    Male    '30-60 years'                    Other   \n",
       "53902  Caucasian  Female    '30-60 years'     'Discharged to Home'   \n",
       "\n",
       "      admission_source_id  time_in_hospital medical_specialty  \\\n",
       "65884           Emergency                 3           Missing   \n",
       "86278            Referral                 5           Missing   \n",
       "30000               Other                 4             Other   \n",
       "51185               Other                 9  InternalMedicine   \n",
       "53902            Referral                 7             Other   \n",
       "\n",
       "       num_lab_procedures  num_procedures  num_medications  ... max_glu_serum  \\\n",
       "65884                  49               6               27  ...           NaN   \n",
       "86278                  57               0               21  ...           NaN   \n",
       "30000                  37               2                9  ...           NaN   \n",
       "51185                  61               6               27  ...           NaN   \n",
       "53902                  23               0               13  ...           NaN   \n",
       "\n",
       "       A1Cresult insulin change diabetesMed medicare medicaid had_emergency  \\\n",
       "65884        NaN      Up     Ch         Yes    False    False         False   \n",
       "86278        NaN      No     Ch         Yes     True    False         False   \n",
       "30000        NaN      No     No          No    False    False         False   \n",
       "51185         >8      No     Ch         Yes    False    False          True   \n",
       "53902        NaN      No     No         Yes     True    False          True   \n",
       "\n",
       "      had_inpatient_days had_outpatient_days  \n",
       "65884               True               False  \n",
       "86278               True               False  \n",
       "30000              False               False  \n",
       "51185              False                True  \n",
       "53902               True               False  \n",
       "\n",
       "[5 rows x 22 columns]"
      ]
     },
     "execution_count": 6,
     "metadata": {},
     "output_type": "execute_result"
    }
   ],
   "source": [
    "#@markdown Look at the first few rows of the data.\n",
    "x_raw.head()"
   ]
  },
  {
   "cell_type": "code",
   "execution_count": 7,
   "metadata": {
    "colab": {
     "base_uri": "https://localhost:8080/"
    },
    "executionInfo": {
     "elapsed": 10,
     "status": "ok",
     "timestamp": 1707177007491,
     "user": {
      "displayName": "Lucas Rosenblatt",
      "userId": "02197960479707249477"
     },
     "user_tz": 300
    },
    "id": "LNoVPfQMPTG2",
    "outputId": "68dd85db-5e4d-44b4-8e72-81d2531f0df0"
   },
   "outputs": [
    {
     "data": {
      "text/plain": [
       "0"
      ]
     },
     "execution_count": 7,
     "metadata": {},
     "output_type": "execute_result"
    }
   ],
   "source": [
    "# check how many 'Unknown/Invalid' values there are for gender\n",
    "(x_raw.gender == 'Unknown/Invalid').sum()"
   ]
  },
  {
   "cell_type": "code",
   "execution_count": 8,
   "metadata": {
    "colab": {
     "base_uri": "https://localhost:8080/"
    },
    "executionInfo": {
     "elapsed": 8,
     "status": "ok",
     "timestamp": 1707177007491,
     "user": {
      "displayName": "Lucas Rosenblatt",
      "userId": "02197960479707249477"
     },
     "user_tz": 300
    },
    "id": "XFuBYF5hP6qO",
    "outputId": "896e093a-d909-4d37-d18f-8b6b3d69e847"
   },
   "outputs": [
    {
     "name": "stdout",
     "output_type": "stream",
     "text": [
      "(10177, 22)\n",
      "(10177, 22)\n"
     ]
    }
   ],
   "source": [
    "# drop these 3 rows\n",
    "print(x_raw.shape)\n",
    "rows_to_keep = x_raw.gender != 'Unknown/Invalid'\n",
    "x_raw = x_raw[rows_to_keep]\n",
    "y_raw = y_raw[rows_to_keep]\n",
    "print(x_raw.shape)"
   ]
  },
  {
   "cell_type": "code",
   "execution_count": 9,
   "metadata": {
    "colab": {
     "base_uri": "https://localhost:8080/"
    },
    "executionInfo": {
     "elapsed": 7,
     "status": "ok",
     "timestamp": 1707177007491,
     "user": {
      "displayName": "Lucas Rosenblatt",
      "userId": "02197960479707249477"
     },
     "user_tz": 300
    },
    "id": "SP56CEvNRDoj",
    "outputId": "190d66bb-2066-4c5e-b206-8a1f5a4562e8"
   },
   "outputs": [
    {
     "data": {
      "text/plain": [
       "race                          object\n",
       "gender                        object\n",
       "age                           object\n",
       "discharge_disposition_id      object\n",
       "admission_source_id           object\n",
       "time_in_hospital               int64\n",
       "medical_specialty             object\n",
       "num_lab_procedures             int64\n",
       "num_procedures                 int64\n",
       "num_medications                int64\n",
       "primary_diagnosis             object\n",
       "number_diagnoses               int64\n",
       "max_glu_serum                 object\n",
       "A1Cresult                     object\n",
       "insulin                       object\n",
       "change                        object\n",
       "diabetesMed                   object\n",
       "medicare                    category\n",
       "medicaid                    category\n",
       "had_emergency               category\n",
       "had_inpatient_days          category\n",
       "had_outpatient_days         category\n",
       "dtype: object"
      ]
     },
     "execution_count": 9,
     "metadata": {},
     "output_type": "execute_result"
    }
   ],
   "source": [
    "x_raw.dtypes"
   ]
  },
  {
   "cell_type": "code",
   "execution_count": 12,
   "metadata": {
    "colab": {
     "base_uri": "https://localhost:8080/"
    },
    "executionInfo": {
     "elapsed": 213,
     "status": "ok",
     "timestamp": 1707177087179,
     "user": {
      "displayName": "Lucas Rosenblatt",
      "userId": "02197960479707249477"
     },
     "user_tz": 300
    },
    "id": "_fF5fYMHO33T",
    "outputId": "87fc3551-d3bb-4363-cbe8-8f64b6363cca"
   },
   "outputs": [
    {
     "data": {
      "text/plain": [
       "race                        [Caucasian, AfricanAmerican, Unknown, Other, A...\n",
       "gender                                                         [Male, Female]\n",
       "age                         ['Over 60 years', '30-60 years', '30 years or ...\n",
       "discharge_disposition_id                        ['Discharged to Home', Other]\n",
       "admission_source_id                              [Emergency, Referral, Other]\n",
       "time_in_hospital              [3, 5, 4, 9, 7, 8, 11, 2, 1, 6, 12, 13, 14, 10]\n",
       "medical_specialty           [Missing, Other, InternalMedicine, Emergency/T...\n",
       "num_lab_procedures          [49, 57, 37, 61, 23, 65, 47, 35, 51, 22, 46, 4...\n",
       "num_procedures                                          [6, 0, 2, 1, 3, 4, 5]\n",
       "num_medications             [27, 21, 9, 13, 40, 17, 34, 10, 19, 11, 6, 14,...\n",
       "primary_diagnosis           [Other, Diabetes, 'Respiratory Issues', 'Muscu...\n",
       "number_diagnoses                  [9, 5, 7, 4, 6, 8, 3, 2, 1, 16, 15, 13, 11]\n",
       "max_glu_serum                                         [nan, Norm, >200, >300]\n",
       "A1Cresult                                                 [nan, >8, Norm, >7]\n",
       "insulin                                                [Up, No, Down, Steady]\n",
       "change                                                               [Ch, No]\n",
       "diabetesMed                                                         [Yes, No]\n",
       "medicare                    ['False', 'True']\n",
       "Categories (2, object): ['Fa...\n",
       "medicaid                    ['False', 'True']\n",
       "Categories (2, object): ['Fa...\n",
       "had_emergency               ['False', 'True']\n",
       "Categories (2, object): ['Fa...\n",
       "had_inpatient_days          ['True', 'False']\n",
       "Categories (2, object): ['Fa...\n",
       "had_outpatient_days         ['False', 'True']\n",
       "Categories (2, object): ['Fa...\n",
       "dtype: object"
      ]
     },
     "execution_count": 12,
     "metadata": {},
     "output_type": "execute_result"
    }
   ],
   "source": [
    "unique_feature_values = x_raw.apply(lambda col: col.unique())\n",
    "unique_feature_values"
   ]
  },
  {
   "cell_type": "code",
   "execution_count": 13,
   "metadata": {
    "cellView": "form",
    "colab": {
     "base_uri": "https://localhost:8080/"
    },
    "executionInfo": {
     "elapsed": 156,
     "status": "ok",
     "timestamp": 1707177089593,
     "user": {
      "displayName": "Lucas Rosenblatt",
      "userId": "02197960479707249477"
     },
     "user_tz": 300
    },
    "id": "FMrfl2a0RL2i",
    "outputId": "374c94bd-c74d-4f41-c3df-4fd2aa3eca22"
   },
   "outputs": [
    {
     "name": "stdout",
     "output_type": "stream",
     "text": [
      "Binary features: ['gender' 'discharge_disposition_id' 'change' 'diabetesMed' 'medicare'\n",
      " 'medicaid' 'had_emergency' 'had_inpatient_days' 'had_outpatient_days']\n",
      "Categorical features: ['race' 'age' 'admission_source_id' 'medical_specialty'\n",
      " 'primary_diagnosis' 'insulin']\n"
     ]
    }
   ],
   "source": [
    "#@markdown\n",
    "binary_features = unique_feature_values.index[[len(x) == 2 for x in unique_feature_values]].values\n",
    "print(f'Binary features: {binary_features}')\n",
    "categorical_features = unique_feature_values.index[[len(x) > 2 and isinstance(x[0], str) for x in unique_feature_values]].values\n",
    "print(f'Categorical features: {categorical_features}')"
   ]
  },
  {
   "cell_type": "code",
   "execution_count": 14,
   "metadata": {
    "cellView": "form",
    "executionInfo": {
     "elapsed": 355,
     "status": "ok",
     "timestamp": 1707177090845,
     "user": {
      "displayName": "Lucas Rosenblatt",
      "userId": "02197960479707249477"
     },
     "user_tz": 300
    },
    "id": "pxllwrtKRy4b"
   },
   "outputs": [],
   "source": [
    "#@markdown\n",
    "for col_name in feature_names:\n",
    "    if col_name in categorical_features:\n",
    "        x_raw[col_name] = x_raw[col_name].astype('category')\n",
    "    elif col_name in binary_features:  # redundant for clarity\n",
    "        # turn into int column\n",
    "        integer_col = (x_raw[col_name] == unique_feature_values[col_name][0]).astype(int)\n",
    "        new_name = f'{col_name}_{unique_feature_values[col_name][0]}'\n",
    "        x_raw[new_name] = integer_col\n",
    "        x_raw.drop(columns=[col_name], inplace=True)"
   ]
  },
  {
   "cell_type": "code",
   "execution_count": 16,
   "metadata": {
    "cellView": "form",
    "executionInfo": {
     "elapsed": 158,
     "status": "ok",
     "timestamp": 1707177103594,
     "user": {
      "displayName": "Lucas Rosenblatt",
      "userId": "02197960479707249477"
     },
     "user_tz": 300
    },
    "id": "7hXQfOL7StD2"
   },
   "outputs": [],
   "source": [
    "#@markdown\n",
    "%%capture\n",
    "x_raw.apply(lambda col: col.unique())\n"
   ]
  },
  {
   "cell_type": "code",
   "execution_count": 17,
   "metadata": {
    "colab": {
     "base_uri": "https://localhost:8080/"
    },
    "executionInfo": {
     "elapsed": 399,
     "status": "ok",
     "timestamp": 1707177106255,
     "user": {
      "displayName": "Lucas Rosenblatt",
      "userId": "02197960479707249477"
     },
     "user_tz": 300
    },
    "id": "YrY2593wUQu0",
    "outputId": "6ffe396a-be5e-4441-f450-f0abb53d7ce9"
   },
   "outputs": [
    {
     "data": {
      "text/plain": [
       "race                                             category\n",
       "age                                              category\n",
       "admission_source_id                              category\n",
       "time_in_hospital                                    int64\n",
       "medical_specialty                                category\n",
       "num_lab_procedures                                  int64\n",
       "num_procedures                                      int64\n",
       "num_medications                                     int64\n",
       "primary_diagnosis                                category\n",
       "number_diagnoses                                    int64\n",
       "max_glu_serum                                      object\n",
       "A1Cresult                                          object\n",
       "insulin                                          category\n",
       "gender_Male                                         int64\n",
       "discharge_disposition_id_'Discharged to Home'       int64\n",
       "change_Ch                                           int64\n",
       "diabetesMed_Yes                                     int64\n",
       "medicare_False                                      int64\n",
       "medicaid_False                                      int64\n",
       "had_emergency_False                                 int64\n",
       "had_inpatient_days_True                             int64\n",
       "had_outpatient_days_False                           int64\n",
       "dtype: object"
      ]
     },
     "execution_count": 17,
     "metadata": {},
     "output_type": "execute_result"
    }
   ],
   "source": [
    "x_raw.dtypes"
   ]
  },
  {
   "cell_type": "code",
   "execution_count": 18,
   "metadata": {
    "cellView": "form",
    "colab": {
     "base_uri": "https://localhost:8080/",
     "height": 273
    },
    "executionInfo": {
     "elapsed": 193,
     "status": "ok",
     "timestamp": 1707177109396,
     "user": {
      "displayName": "Lucas Rosenblatt",
      "userId": "02197960479707249477"
     },
     "user_tz": 300
    },
    "id": "eIaANYyPEBvl",
    "outputId": "ca9aeef3-3ef7-4099-9790-86e340dd612e"
   },
   "outputs": [
    {
     "data": {
      "text/html": [
       "\n",
       "  <div id=\"df-6c55d7ee-5a91-424b-9304-c044ad929d04\" class=\"colab-df-container\">\n",
       "    <div>\n",
       "<style scoped>\n",
       "    .dataframe tbody tr th:only-of-type {\n",
       "        vertical-align: middle;\n",
       "    }\n",
       "\n",
       "    .dataframe tbody tr th {\n",
       "        vertical-align: top;\n",
       "    }\n",
       "\n",
       "    .dataframe thead th {\n",
       "        text-align: right;\n",
       "    }\n",
       "</style>\n",
       "<table border=\"1\" class=\"dataframe\">\n",
       "  <thead>\n",
       "    <tr style=\"text-align: right;\">\n",
       "      <th></th>\n",
       "      <th>time_in_hospital</th>\n",
       "      <th>num_lab_procedures</th>\n",
       "      <th>num_procedures</th>\n",
       "      <th>num_medications</th>\n",
       "      <th>number_diagnoses</th>\n",
       "      <th>gender_Male</th>\n",
       "      <th>discharge_disposition_id_'Discharged to Home'</th>\n",
       "      <th>change_Ch</th>\n",
       "      <th>diabetesMed_Yes</th>\n",
       "      <th>medicare_False</th>\n",
       "      <th>...</th>\n",
       "      <th>max_glu_serum_&gt;200</th>\n",
       "      <th>max_glu_serum_&gt;300</th>\n",
       "      <th>max_glu_serum_Norm</th>\n",
       "      <th>A1Cresult_&gt;7</th>\n",
       "      <th>A1Cresult_&gt;8</th>\n",
       "      <th>A1Cresult_Norm</th>\n",
       "      <th>insulin_Down</th>\n",
       "      <th>insulin_No</th>\n",
       "      <th>insulin_Steady</th>\n",
       "      <th>insulin_Up</th>\n",
       "    </tr>\n",
       "  </thead>\n",
       "  <tbody>\n",
       "    <tr>\n",
       "      <th>65884</th>\n",
       "      <td>3</td>\n",
       "      <td>49</td>\n",
       "      <td>6</td>\n",
       "      <td>27</td>\n",
       "      <td>9</td>\n",
       "      <td>1</td>\n",
       "      <td>1</td>\n",
       "      <td>1</td>\n",
       "      <td>1</td>\n",
       "      <td>1</td>\n",
       "      <td>...</td>\n",
       "      <td>False</td>\n",
       "      <td>False</td>\n",
       "      <td>False</td>\n",
       "      <td>False</td>\n",
       "      <td>False</td>\n",
       "      <td>False</td>\n",
       "      <td>False</td>\n",
       "      <td>False</td>\n",
       "      <td>False</td>\n",
       "      <td>True</td>\n",
       "    </tr>\n",
       "    <tr>\n",
       "      <th>86278</th>\n",
       "      <td>5</td>\n",
       "      <td>57</td>\n",
       "      <td>0</td>\n",
       "      <td>21</td>\n",
       "      <td>9</td>\n",
       "      <td>0</td>\n",
       "      <td>0</td>\n",
       "      <td>1</td>\n",
       "      <td>1</td>\n",
       "      <td>0</td>\n",
       "      <td>...</td>\n",
       "      <td>False</td>\n",
       "      <td>False</td>\n",
       "      <td>False</td>\n",
       "      <td>False</td>\n",
       "      <td>False</td>\n",
       "      <td>False</td>\n",
       "      <td>False</td>\n",
       "      <td>True</td>\n",
       "      <td>False</td>\n",
       "      <td>False</td>\n",
       "    </tr>\n",
       "    <tr>\n",
       "      <th>30000</th>\n",
       "      <td>4</td>\n",
       "      <td>37</td>\n",
       "      <td>2</td>\n",
       "      <td>9</td>\n",
       "      <td>5</td>\n",
       "      <td>1</td>\n",
       "      <td>1</td>\n",
       "      <td>0</td>\n",
       "      <td>0</td>\n",
       "      <td>1</td>\n",
       "      <td>...</td>\n",
       "      <td>False</td>\n",
       "      <td>False</td>\n",
       "      <td>False</td>\n",
       "      <td>False</td>\n",
       "      <td>False</td>\n",
       "      <td>False</td>\n",
       "      <td>False</td>\n",
       "      <td>True</td>\n",
       "      <td>False</td>\n",
       "      <td>False</td>\n",
       "    </tr>\n",
       "    <tr>\n",
       "      <th>51185</th>\n",
       "      <td>9</td>\n",
       "      <td>61</td>\n",
       "      <td>6</td>\n",
       "      <td>27</td>\n",
       "      <td>9</td>\n",
       "      <td>1</td>\n",
       "      <td>0</td>\n",
       "      <td>1</td>\n",
       "      <td>1</td>\n",
       "      <td>1</td>\n",
       "      <td>...</td>\n",
       "      <td>False</td>\n",
       "      <td>False</td>\n",
       "      <td>False</td>\n",
       "      <td>False</td>\n",
       "      <td>True</td>\n",
       "      <td>False</td>\n",
       "      <td>False</td>\n",
       "      <td>True</td>\n",
       "      <td>False</td>\n",
       "      <td>False</td>\n",
       "    </tr>\n",
       "    <tr>\n",
       "      <th>53902</th>\n",
       "      <td>7</td>\n",
       "      <td>23</td>\n",
       "      <td>0</td>\n",
       "      <td>13</td>\n",
       "      <td>7</td>\n",
       "      <td>0</td>\n",
       "      <td>1</td>\n",
       "      <td>0</td>\n",
       "      <td>1</td>\n",
       "      <td>0</td>\n",
       "      <td>...</td>\n",
       "      <td>False</td>\n",
       "      <td>False</td>\n",
       "      <td>False</td>\n",
       "      <td>False</td>\n",
       "      <td>False</td>\n",
       "      <td>False</td>\n",
       "      <td>False</td>\n",
       "      <td>True</td>\n",
       "      <td>False</td>\n",
       "      <td>False</td>\n",
       "    </tr>\n",
       "  </tbody>\n",
       "</table>\n",
       "<p>5 rows × 47 columns</p>\n",
       "</div>\n",
       "    <div class=\"colab-df-buttons\">\n",
       "\n",
       "  <div class=\"colab-df-container\">\n",
       "    <button class=\"colab-df-convert\" onclick=\"convertToInteractive('df-6c55d7ee-5a91-424b-9304-c044ad929d04')\"\n",
       "            title=\"Convert this dataframe to an interactive table.\"\n",
       "            style=\"display:none;\">\n",
       "\n",
       "  <svg xmlns=\"http://www.w3.org/2000/svg\" height=\"24px\" viewBox=\"0 -960 960 960\">\n",
       "    <path d=\"M120-120v-720h720v720H120Zm60-500h600v-160H180v160Zm220 220h160v-160H400v160Zm0 220h160v-160H400v160ZM180-400h160v-160H180v160Zm440 0h160v-160H620v160ZM180-180h160v-160H180v160Zm440 0h160v-160H620v160Z\"/>\n",
       "  </svg>\n",
       "    </button>\n",
       "\n",
       "  <style>\n",
       "    .colab-df-container {\n",
       "      display:flex;\n",
       "      gap: 12px;\n",
       "    }\n",
       "\n",
       "    .colab-df-convert {\n",
       "      background-color: #E8F0FE;\n",
       "      border: none;\n",
       "      border-radius: 50%;\n",
       "      cursor: pointer;\n",
       "      display: none;\n",
       "      fill: #1967D2;\n",
       "      height: 32px;\n",
       "      padding: 0 0 0 0;\n",
       "      width: 32px;\n",
       "    }\n",
       "\n",
       "    .colab-df-convert:hover {\n",
       "      background-color: #E2EBFA;\n",
       "      box-shadow: 0px 1px 2px rgba(60, 64, 67, 0.3), 0px 1px 3px 1px rgba(60, 64, 67, 0.15);\n",
       "      fill: #174EA6;\n",
       "    }\n",
       "\n",
       "    .colab-df-buttons div {\n",
       "      margin-bottom: 4px;\n",
       "    }\n",
       "\n",
       "    [theme=dark] .colab-df-convert {\n",
       "      background-color: #3B4455;\n",
       "      fill: #D2E3FC;\n",
       "    }\n",
       "\n",
       "    [theme=dark] .colab-df-convert:hover {\n",
       "      background-color: #434B5C;\n",
       "      box-shadow: 0px 1px 3px 1px rgba(0, 0, 0, 0.15);\n",
       "      filter: drop-shadow(0px 1px 2px rgba(0, 0, 0, 0.3));\n",
       "      fill: #FFFFFF;\n",
       "    }\n",
       "  </style>\n",
       "\n",
       "    <script>\n",
       "      const buttonEl =\n",
       "        document.querySelector('#df-6c55d7ee-5a91-424b-9304-c044ad929d04 button.colab-df-convert');\n",
       "      buttonEl.style.display =\n",
       "        google.colab.kernel.accessAllowed ? 'block' : 'none';\n",
       "\n",
       "      async function convertToInteractive(key) {\n",
       "        const element = document.querySelector('#df-6c55d7ee-5a91-424b-9304-c044ad929d04');\n",
       "        const dataTable =\n",
       "          await google.colab.kernel.invokeFunction('convertToInteractive',\n",
       "                                                    [key], {});\n",
       "        if (!dataTable) return;\n",
       "\n",
       "        const docLinkHtml = 'Like what you see? Visit the ' +\n",
       "          '<a target=\"_blank\" href=https://colab.research.google.com/notebooks/data_table.ipynb>data table notebook</a>'\n",
       "          + ' to learn more about interactive tables.';\n",
       "        element.innerHTML = '';\n",
       "        dataTable['output_type'] = 'display_data';\n",
       "        await google.colab.output.renderOutput(dataTable, element);\n",
       "        const docLink = document.createElement('div');\n",
       "        docLink.innerHTML = docLinkHtml;\n",
       "        element.appendChild(docLink);\n",
       "      }\n",
       "    </script>\n",
       "  </div>\n",
       "\n",
       "\n",
       "<div id=\"df-a86c4756-d71e-450c-a645-d513645df1d1\">\n",
       "  <button class=\"colab-df-quickchart\" onclick=\"quickchart('df-a86c4756-d71e-450c-a645-d513645df1d1')\"\n",
       "            title=\"Suggest charts\"\n",
       "            style=\"display:none;\">\n",
       "\n",
       "<svg xmlns=\"http://www.w3.org/2000/svg\" height=\"24px\"viewBox=\"0 0 24 24\"\n",
       "     width=\"24px\">\n",
       "    <g>\n",
       "        <path d=\"M19 3H5c-1.1 0-2 .9-2 2v14c0 1.1.9 2 2 2h14c1.1 0 2-.9 2-2V5c0-1.1-.9-2-2-2zM9 17H7v-7h2v7zm4 0h-2V7h2v10zm4 0h-2v-4h2v4z\"/>\n",
       "    </g>\n",
       "</svg>\n",
       "  </button>\n",
       "\n",
       "<style>\n",
       "  .colab-df-quickchart {\n",
       "      --bg-color: #E8F0FE;\n",
       "      --fill-color: #1967D2;\n",
       "      --hover-bg-color: #E2EBFA;\n",
       "      --hover-fill-color: #174EA6;\n",
       "      --disabled-fill-color: #AAA;\n",
       "      --disabled-bg-color: #DDD;\n",
       "  }\n",
       "\n",
       "  [theme=dark] .colab-df-quickchart {\n",
       "      --bg-color: #3B4455;\n",
       "      --fill-color: #D2E3FC;\n",
       "      --hover-bg-color: #434B5C;\n",
       "      --hover-fill-color: #FFFFFF;\n",
       "      --disabled-bg-color: #3B4455;\n",
       "      --disabled-fill-color: #666;\n",
       "  }\n",
       "\n",
       "  .colab-df-quickchart {\n",
       "    background-color: var(--bg-color);\n",
       "    border: none;\n",
       "    border-radius: 50%;\n",
       "    cursor: pointer;\n",
       "    display: none;\n",
       "    fill: var(--fill-color);\n",
       "    height: 32px;\n",
       "    padding: 0;\n",
       "    width: 32px;\n",
       "  }\n",
       "\n",
       "  .colab-df-quickchart:hover {\n",
       "    background-color: var(--hover-bg-color);\n",
       "    box-shadow: 0 1px 2px rgba(60, 64, 67, 0.3), 0 1px 3px 1px rgba(60, 64, 67, 0.15);\n",
       "    fill: var(--button-hover-fill-color);\n",
       "  }\n",
       "\n",
       "  .colab-df-quickchart-complete:disabled,\n",
       "  .colab-df-quickchart-complete:disabled:hover {\n",
       "    background-color: var(--disabled-bg-color);\n",
       "    fill: var(--disabled-fill-color);\n",
       "    box-shadow: none;\n",
       "  }\n",
       "\n",
       "  .colab-df-spinner {\n",
       "    border: 2px solid var(--fill-color);\n",
       "    border-color: transparent;\n",
       "    border-bottom-color: var(--fill-color);\n",
       "    animation:\n",
       "      spin 1s steps(1) infinite;\n",
       "  }\n",
       "\n",
       "  @keyframes spin {\n",
       "    0% {\n",
       "      border-color: transparent;\n",
       "      border-bottom-color: var(--fill-color);\n",
       "      border-left-color: var(--fill-color);\n",
       "    }\n",
       "    20% {\n",
       "      border-color: transparent;\n",
       "      border-left-color: var(--fill-color);\n",
       "      border-top-color: var(--fill-color);\n",
       "    }\n",
       "    30% {\n",
       "      border-color: transparent;\n",
       "      border-left-color: var(--fill-color);\n",
       "      border-top-color: var(--fill-color);\n",
       "      border-right-color: var(--fill-color);\n",
       "    }\n",
       "    40% {\n",
       "      border-color: transparent;\n",
       "      border-right-color: var(--fill-color);\n",
       "      border-top-color: var(--fill-color);\n",
       "    }\n",
       "    60% {\n",
       "      border-color: transparent;\n",
       "      border-right-color: var(--fill-color);\n",
       "    }\n",
       "    80% {\n",
       "      border-color: transparent;\n",
       "      border-right-color: var(--fill-color);\n",
       "      border-bottom-color: var(--fill-color);\n",
       "    }\n",
       "    90% {\n",
       "      border-color: transparent;\n",
       "      border-bottom-color: var(--fill-color);\n",
       "    }\n",
       "  }\n",
       "</style>\n",
       "\n",
       "  <script>\n",
       "    async function quickchart(key) {\n",
       "      const quickchartButtonEl =\n",
       "        document.querySelector('#' + key + ' button');\n",
       "      quickchartButtonEl.disabled = true;  // To prevent multiple clicks.\n",
       "      quickchartButtonEl.classList.add('colab-df-spinner');\n",
       "      try {\n",
       "        const charts = await google.colab.kernel.invokeFunction(\n",
       "            'suggestCharts', [key], {});\n",
       "      } catch (error) {\n",
       "        console.error('Error during call to suggestCharts:', error);\n",
       "      }\n",
       "      quickchartButtonEl.classList.remove('colab-df-spinner');\n",
       "      quickchartButtonEl.classList.add('colab-df-quickchart-complete');\n",
       "    }\n",
       "    (() => {\n",
       "      let quickchartButtonEl =\n",
       "        document.querySelector('#df-a86c4756-d71e-450c-a645-d513645df1d1 button');\n",
       "      quickchartButtonEl.style.display =\n",
       "        google.colab.kernel.accessAllowed ? 'block' : 'none';\n",
       "    })();\n",
       "  </script>\n",
       "</div>\n",
       "    </div>\n",
       "  </div>\n"
      ],
      "text/plain": [
       "       time_in_hospital  num_lab_procedures  num_procedures  num_medications  \\\n",
       "65884                 3                  49               6               27   \n",
       "86278                 5                  57               0               21   \n",
       "30000                 4                  37               2                9   \n",
       "51185                 9                  61               6               27   \n",
       "53902                 7                  23               0               13   \n",
       "\n",
       "       number_diagnoses  gender_Male  \\\n",
       "65884                 9            1   \n",
       "86278                 9            0   \n",
       "30000                 5            1   \n",
       "51185                 9            1   \n",
       "53902                 7            0   \n",
       "\n",
       "       discharge_disposition_id_'Discharged to Home'  change_Ch  \\\n",
       "65884                                              1          1   \n",
       "86278                                              0          1   \n",
       "30000                                              1          0   \n",
       "51185                                              0          1   \n",
       "53902                                              1          0   \n",
       "\n",
       "       diabetesMed_Yes  medicare_False  ...  max_glu_serum_>200  \\\n",
       "65884                1               1  ...               False   \n",
       "86278                1               0  ...               False   \n",
       "30000                0               1  ...               False   \n",
       "51185                1               1  ...               False   \n",
       "53902                1               0  ...               False   \n",
       "\n",
       "       max_glu_serum_>300  max_glu_serum_Norm  A1Cresult_>7  A1Cresult_>8  \\\n",
       "65884               False               False         False         False   \n",
       "86278               False               False         False         False   \n",
       "30000               False               False         False         False   \n",
       "51185               False               False         False          True   \n",
       "53902               False               False         False         False   \n",
       "\n",
       "       A1Cresult_Norm  insulin_Down  insulin_No  insulin_Steady  insulin_Up  \n",
       "65884           False         False       False           False        True  \n",
       "86278           False         False        True           False       False  \n",
       "30000           False         False        True           False       False  \n",
       "51185           False         False        True           False       False  \n",
       "53902           False         False        True           False       False  \n",
       "\n",
       "[5 rows x 47 columns]"
      ]
     },
     "metadata": {},
     "output_type": "display_data"
    }
   ],
   "source": [
    "#@markdown One-hot encode categorical features\n",
    "x_numeric = pd.get_dummies(x_raw)\n",
    "display(x_numeric.head())\n",
    "\n",
    "# get one-hot and numeric column names\n",
    "numeric_cols = x_numeric.dtypes.index[x_numeric.dtypes == 'float64'].values\n",
    "one_hot_cols = x_numeric.dtypes.index[x_numeric.dtypes != 'float64'].values"
   ]
  },
  {
   "cell_type": "code",
   "execution_count": 19,
   "metadata": {
    "cellView": "form",
    "executionInfo": {
     "elapsed": 181,
     "status": "ok",
     "timestamp": 1707177113398,
     "user": {
      "displayName": "Lucas Rosenblatt",
      "userId": "02197960479707249477"
     },
     "user_tz": 300
    },
    "id": "OTP3ues-L0bm"
   },
   "outputs": [],
   "source": [
    "#@markdown ## TODO: Split train, test, validation data 70 train/20 test/10 val\n"
   ]
  },
  {
   "cell_type": "code",
   "execution_count": null,
   "metadata": {
    "cellView": "form",
    "id": "vCmLLpgsx2_7"
   },
   "outputs": [],
   "source": [
    "#@markdown ## TODO: Initialize Fairlearn Metric Dictrs and sensitive features"
   ]
  },
  {
   "cell_type": "markdown",
   "metadata": {
    "id": "FaQZc9mkDBQc"
   },
   "source": [
    "# Problem 2, Part (a)\n",
    "### **Train a baseline Random Forest (RF) (sklearn RandomForestClassifier) model and report metrics**"
   ]
  },
  {
   "cell_type": "markdown",
   "metadata": {
    "id": "J_9U8nMU3pg0"
   },
   "source": [
    "### Train a random forest model - Baseline"
   ]
  },
  {
   "cell_type": "markdown",
   "metadata": {
    "id": "HnLhqs6z1ASV"
   },
   "source": [
    "### Report metrics"
   ]
  },
  {
   "cell_type": "code",
   "execution_count": null,
   "metadata": {
    "cellView": "form",
    "id": "bjXcl0Pa-lcD"
   },
   "outputs": [],
   "source": [
    "#@markdown ### Calculate metrics with Fairlearn MetricFrame\n"
   ]
  },
  {
   "cell_type": "code",
   "execution_count": null,
   "metadata": {
    "cellView": "form",
    "id": "-o-cdBqa-9lX"
   },
   "outputs": [],
   "source": [
    "#@markdown Print Results"
   ]
  },
  {
   "cell_type": "code",
   "execution_count": null,
   "metadata": {
    "cellView": "form",
    "id": "tvtW2xAAWquz"
   },
   "outputs": [],
   "source": [
    "#@markdown # Problem 2, Part (b)\n",
    "#@markdown ### **Hyperparameter tuning of baseline RF model**\n",
    "def tune_random_forest(x_train, y_train, x_val, y_val, max_depth, n_estimators, verbose=False, weights=None):\n",
    "    '''Tunes logistic regression models over the hyperparameters max depth and n_estimators\n",
    "       to maximize the AUC'''\n",
    "    pass"
   ]
  },
  {
   "cell_type": "code",
   "execution_count": null,
   "metadata": {
    "cellView": "form",
    "id": "YmR56kPMWwDW"
   },
   "outputs": [],
   "source": [
    "#@markdown Tuning loop across different seeds\n"
   ]
  },
  {
   "cell_type": "code",
   "execution_count": null,
   "metadata": {
    "cellView": "form",
    "id": "jrE459rnlgGI"
   },
   "outputs": [],
   "source": [
    "#@markdown ### Boxplot tuned/untuned comparison for each metric"
   ]
  },
  {
   "cell_type": "markdown",
   "metadata": {
    "id": "1TxGuvaynIP6"
   },
   "source": [
    "# Problem 2, Part (c)\n",
    "### **Fit Fairlean Adversarial Debiaser**\n",
    "\n",
    "Experiment with the alpha parameter - which value of alpha produces the fairest and most accurate classifier? Does such a value exist?"
   ]
  },
  {
   "cell_type": "code",
   "execution_count": null,
   "metadata": {
    "cellView": "form",
    "id": "IXHVzAFe_qE2"
   },
   "outputs": [],
   "source": [
    "#@markdown Fit the AdversarialFairnessClassifier here.\n",
    "#@markdown Use these hyperparameters, while varying the `alpha` parameter:\n",
    "#@markdown - backend='tensorflow',\n",
    "#@markdown - predictor_model=[128,64,32,16,8],\n",
    "#@markdown - adversary_model=[32,16,8],\n",
    "#@markdown - learning_rate=0.001,\n",
    "#@markdown - epochs=3,\n",
    "#@markdown - batch_size=16,\n",
    "#@markdown - constraints='demographic_parity',\n",
    "#@markdown - random_state=seed,\n",
    "#@markdown - shuffle=True"
   ]
  },
  {
   "cell_type": "code",
   "execution_count": null,
   "metadata": {
    "cellView": "form",
    "id": "GU0sbnzSJq_P"
   },
   "outputs": [],
   "source": [
    "#@markdown ### Plot all our metrics as line plots while varying alpha"
   ]
  },
  {
   "cell_type": "markdown",
   "metadata": {
    "id": "-UbQD7Gy13rv"
   },
   "source": [
    "# Problem 2, Part (d)\n",
    "### **Threshold Optimizer Post-processing intervention**\n",
    "\n"
   ]
  },
  {
   "cell_type": "code",
   "execution_count": null,
   "metadata": {
    "cellView": "form",
    "id": "TJXJ1zypou-M"
   },
   "outputs": [],
   "source": [
    "#@markdown Fit the ThresholdOptimizer model here"
   ]
  },
  {
   "cell_type": "code",
   "execution_count": null,
   "metadata": {
    "id": "4fr32wEdsR0J"
   },
   "outputs": [],
   "source": []
  }
 ],
 "metadata": {
  "colab": {
   "provenance": [
    {
     "file_id": "1USx4UMWe6fqedbwxq6Hrl6qNI-tlnPZR",
     "timestamp": 1675959497555
    }
   ]
  },
  "kernelspec": {
   "display_name": "Python 3 (ipykernel)",
   "language": "python",
   "name": "python3"
  },
  "language_info": {
   "codemirror_mode": {
    "name": "ipython",
    "version": 3
   },
   "file_extension": ".py",
   "mimetype": "text/x-python",
   "name": "python",
   "nbconvert_exporter": "python",
   "pygments_lexer": "ipython3",
   "version": "3.10.12"
  }
 },
 "nbformat": 4,
 "nbformat_minor": 4
}
