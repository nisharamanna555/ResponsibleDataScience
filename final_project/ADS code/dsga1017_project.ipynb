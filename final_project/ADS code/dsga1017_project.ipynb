{
 "cells": [
  {
   "cell_type": "code",
   "execution_count": 1,
   "metadata": {
    "colab": {
     "base_uri": "https://localhost:8080/"
    },
    "id": "ZDoJTmf9PGmR",
    "outputId": "56e79da5-b41d-4e80-c6c9-1160ab2bb621"
   },
   "outputs": [
    {
     "name": "stdout",
     "output_type": "stream",
     "text": [
      "Requirement already satisfied: shap in /Users/nisha/miniforge3/lib/python3.10/site-packages (0.45.1)\n",
      "Requirement already satisfied: numpy in /Users/nisha/miniforge3/lib/python3.10/site-packages (from shap) (1.26.4)\n",
      "Requirement already satisfied: scipy in /Users/nisha/miniforge3/lib/python3.10/site-packages (from shap) (1.12.0)\n",
      "Requirement already satisfied: scikit-learn in /Users/nisha/miniforge3/lib/python3.10/site-packages (from shap) (1.4.0)\n",
      "Requirement already satisfied: pandas in /Users/nisha/miniforge3/lib/python3.10/site-packages (from shap) (2.2.0)\n",
      "Requirement already satisfied: tqdm>=4.27.0 in /Users/nisha/miniforge3/lib/python3.10/site-packages (from shap) (4.66.1)\n",
      "Requirement already satisfied: packaging>20.9 in /Users/nisha/miniforge3/lib/python3.10/site-packages (from shap) (23.1)\n",
      "Requirement already satisfied: slicer==0.0.8 in /Users/nisha/miniforge3/lib/python3.10/site-packages (from shap) (0.0.8)\n",
      "Requirement already satisfied: numba in /Users/nisha/miniforge3/lib/python3.10/site-packages (from shap) (0.59.1)\n",
      "Requirement already satisfied: cloudpickle in /Users/nisha/miniforge3/lib/python3.10/site-packages (from shap) (3.0.0)\n",
      "Requirement already satisfied: llvmlite<0.43,>=0.42.0dev0 in /Users/nisha/miniforge3/lib/python3.10/site-packages (from numba->shap) (0.42.0)\n",
      "Requirement already satisfied: python-dateutil>=2.8.2 in /Users/nisha/miniforge3/lib/python3.10/site-packages (from pandas->shap) (2.8.2)\n",
      "Requirement already satisfied: pytz>=2020.1 in /Users/nisha/miniforge3/lib/python3.10/site-packages (from pandas->shap) (2024.1)\n",
      "Requirement already satisfied: tzdata>=2022.7 in /Users/nisha/miniforge3/lib/python3.10/site-packages (from pandas->shap) (2023.4)\n",
      "Requirement already satisfied: joblib>=1.2.0 in /Users/nisha/miniforge3/lib/python3.10/site-packages (from scikit-learn->shap) (1.3.2)\n",
      "Requirement already satisfied: threadpoolctl>=2.0.0 in /Users/nisha/miniforge3/lib/python3.10/site-packages (from scikit-learn->shap) (3.2.0)\n",
      "Requirement already satisfied: six>=1.5 in /Users/nisha/miniforge3/lib/python3.10/site-packages (from python-dateutil>=2.8.2->pandas->shap) (1.16.0)\n"
     ]
    }
   ],
   "source": [
    "!pip install shap"
   ]
  },
  {
   "cell_type": "code",
   "execution_count": 2,
   "metadata": {
    "id": "wwbEii_TwCQe"
   },
   "outputs": [],
   "source": [
    "import pandas as pd\n",
    "import matplotlib.pyplot as plt\n",
    "import numpy as np\n",
    "from sklearn.metrics import mean_absolute_error, mean_squared_error\n",
    "import shap"
   ]
  },
  {
   "cell_type": "code",
   "execution_count": 3,
   "metadata": {
    "id": "y6-RTRAywYGD"
   },
   "outputs": [],
   "source": [
    "train_df = pd.read_csv(\"../input/osic-pulmonary-fibrosis-progression/train.csv\")\n",
    "test_df = pd.read_csv(\"../input/osic-pulmonary-fibrosis-progression/test.csv\")"
   ]
  },
  {
   "cell_type": "markdown",
   "metadata": {
    "id": "HOxmuRwqsL1I"
   },
   "source": [
    "# Examining properties of data"
   ]
  },
  {
   "cell_type": "code",
   "execution_count": 4,
   "metadata": {
    "colab": {
     "base_uri": "https://localhost:8080/",
     "height": 206
    },
    "id": "6noZSTEQwrwN",
    "outputId": "0d1526a6-6323-43de-9f9b-66f418077a8f"
   },
   "outputs": [
    {
     "data": {
      "text/html": [
       "<div>\n",
       "<style scoped>\n",
       "    .dataframe tbody tr th:only-of-type {\n",
       "        vertical-align: middle;\n",
       "    }\n",
       "\n",
       "    .dataframe tbody tr th {\n",
       "        vertical-align: top;\n",
       "    }\n",
       "\n",
       "    .dataframe thead th {\n",
       "        text-align: right;\n",
       "    }\n",
       "</style>\n",
       "<table border=\"1\" class=\"dataframe\">\n",
       "  <thead>\n",
       "    <tr style=\"text-align: right;\">\n",
       "      <th></th>\n",
       "      <th>Patient</th>\n",
       "      <th>Weeks</th>\n",
       "      <th>FVC</th>\n",
       "      <th>Percent</th>\n",
       "      <th>Age</th>\n",
       "      <th>Sex</th>\n",
       "      <th>SmokingStatus</th>\n",
       "    </tr>\n",
       "  </thead>\n",
       "  <tbody>\n",
       "    <tr>\n",
       "      <th>0</th>\n",
       "      <td>ID00007637202177411956430</td>\n",
       "      <td>-4</td>\n",
       "      <td>2315</td>\n",
       "      <td>58.253649</td>\n",
       "      <td>79</td>\n",
       "      <td>Male</td>\n",
       "      <td>Ex-smoker</td>\n",
       "    </tr>\n",
       "    <tr>\n",
       "      <th>1</th>\n",
       "      <td>ID00007637202177411956430</td>\n",
       "      <td>5</td>\n",
       "      <td>2214</td>\n",
       "      <td>55.712129</td>\n",
       "      <td>79</td>\n",
       "      <td>Male</td>\n",
       "      <td>Ex-smoker</td>\n",
       "    </tr>\n",
       "    <tr>\n",
       "      <th>2</th>\n",
       "      <td>ID00007637202177411956430</td>\n",
       "      <td>7</td>\n",
       "      <td>2061</td>\n",
       "      <td>51.862104</td>\n",
       "      <td>79</td>\n",
       "      <td>Male</td>\n",
       "      <td>Ex-smoker</td>\n",
       "    </tr>\n",
       "    <tr>\n",
       "      <th>3</th>\n",
       "      <td>ID00007637202177411956430</td>\n",
       "      <td>9</td>\n",
       "      <td>2144</td>\n",
       "      <td>53.950679</td>\n",
       "      <td>79</td>\n",
       "      <td>Male</td>\n",
       "      <td>Ex-smoker</td>\n",
       "    </tr>\n",
       "    <tr>\n",
       "      <th>4</th>\n",
       "      <td>ID00007637202177411956430</td>\n",
       "      <td>11</td>\n",
       "      <td>2069</td>\n",
       "      <td>52.063412</td>\n",
       "      <td>79</td>\n",
       "      <td>Male</td>\n",
       "      <td>Ex-smoker</td>\n",
       "    </tr>\n",
       "  </tbody>\n",
       "</table>\n",
       "</div>"
      ],
      "text/plain": [
       "                     Patient  Weeks   FVC    Percent  Age   Sex SmokingStatus\n",
       "0  ID00007637202177411956430     -4  2315  58.253649   79  Male     Ex-smoker\n",
       "1  ID00007637202177411956430      5  2214  55.712129   79  Male     Ex-smoker\n",
       "2  ID00007637202177411956430      7  2061  51.862104   79  Male     Ex-smoker\n",
       "3  ID00007637202177411956430      9  2144  53.950679   79  Male     Ex-smoker\n",
       "4  ID00007637202177411956430     11  2069  52.063412   79  Male     Ex-smoker"
      ]
     },
     "execution_count": 4,
     "metadata": {},
     "output_type": "execute_result"
    }
   ],
   "source": [
    "train_df.head()"
   ]
  },
  {
   "cell_type": "code",
   "execution_count": 5,
   "metadata": {
    "colab": {
     "base_uri": "https://localhost:8080/"
    },
    "id": "iwJcbhZdwjPE",
    "outputId": "f36e59a8-8767-4c34-e802-e565c7dc31a9"
   },
   "outputs": [
    {
     "name": "stdout",
     "output_type": "stream",
     "text": [
      "False\n"
     ]
    }
   ],
   "source": [
    "# check for null values\n",
    "print(train_df.isnull().values.any())"
   ]
  },
  {
   "cell_type": "code",
   "execution_count": 6,
   "metadata": {
    "id": "eHEtME0Swv49"
   },
   "outputs": [],
   "source": [
    "# check distribution of values for each future\n",
    "def plot_dist_find_range(df, col_name):\n",
    "  plt.hist(df[col_name])\n",
    "  plt.xlabel(col_name)\n",
    "  plt.ylabel(\"Count\")\n",
    "  plt.title(\"Distribution of \" + col_name)\n",
    "  plt.show\n",
    "  return [df[col_name].min(), df[col_name].max()]"
   ]
  },
  {
   "cell_type": "code",
   "execution_count": 7,
   "metadata": {
    "colab": {
     "base_uri": "https://localhost:8080/",
     "height": 490
    },
    "id": "v0DX89rmgmpA",
    "outputId": "cfbf6f82-d86c-4066-c74e-687b211adfb3"
   },
   "outputs": [
    {
     "name": "stdout",
     "output_type": "stream",
     "text": [
      "[-5, 133]\n"
     ]
    },
    {
     "data": {
      "image/png": "[encoded data removed]",
      "text/plain": [
       "<Figure size 640x480 with 1 Axes>"
      ]
     },
     "metadata": {},
     "output_type": "display_data"
    }
   ],
   "source": [
    "feat_range = plot_dist_find_range(train_df, \"Weeks\")\n",
    "print(feat_range)"
   ]
  },
  {
   "cell_type": "code",
   "execution_count": 8,
   "metadata": {
    "colab": {
     "base_uri": "https://localhost:8080/",
     "height": 490
    },
    "id": "4KZ4c_gchBfK",
    "outputId": "6927648a-a82e-492a-ae32-da0e250b1f18"
   },
   "outputs": [
    {
     "name": "stdout",
     "output_type": "stream",
     "text": [
      "[827, 6399]\n"
     ]
    },
    {
     "data": {
      "image/png": "[encoded data removed]",
      "text/plain": [
       "<Figure size 640x480 with 1 Axes>"
      ]
     },
     "metadata": {},
     "output_type": "display_data"
    }
   ],
   "source": [
    "feat_range = plot_dist_find_range(train_df, \"FVC\")\n",
    "print(feat_range)"
   ]
  },
  {
   "cell_type": "code",
   "execution_count": 9,
   "metadata": {
    "colab": {
     "base_uri": "https://localhost:8080/",
     "height": 490
    },
    "id": "ekDyeyhuhE_H",
    "outputId": "e0b94fd1-1c31-4d25-92f0-66f4fef37a65"
   },
   "outputs": [
    {
     "name": "stdout",
     "output_type": "stream",
     "text": [
      "[28.8775766716943, 153.145377828922]\n"
     ]
    },
    {
     "data": {
      "image/png": "[encoded data removed]",
      "text/plain": [
       "<Figure size 640x480 with 1 Axes>"
      ]
     },
     "metadata": {},
     "output_type": "display_data"
    }
   ],
   "source": [
    "feat_range = plot_dist_find_range(train_df, \"Percent\")\n",
    "print(feat_range)"
   ]
  },
  {
   "cell_type": "code",
   "execution_count": 10,
   "metadata": {
    "colab": {
     "base_uri": "https://localhost:8080/",
     "height": 490
    },
    "id": "kvQBMJ8rhHNH",
    "outputId": "ef1382d4-ebf4-4fcc-9112-902f156230a4"
   },
   "outputs": [
    {
     "name": "stdout",
     "output_type": "stream",
     "text": [
      "[49, 88]\n"
     ]
    },
    {
     "data": {
      "image/png": "[encoded data removed]",
      "text/plain": [
       "<Figure size 640x480 with 1 Axes>"
      ]
     },
     "metadata": {},
     "output_type": "display_data"
    }
   ],
   "source": [
    "feat_range = plot_dist_find_range(train_df, \"Age\")\n",
    "print(feat_range)"
   ]
  },
  {
   "cell_type": "code",
   "execution_count": 11,
   "metadata": {
    "colab": {
     "base_uri": "https://localhost:8080/",
     "height": 490
    },
    "id": "JhW94TvMhL1_",
    "outputId": "e08c4850-f842-4fc8-8e94-3667f8731787"
   },
   "outputs": [
    {
     "data": {
      "text/plain": [
       "['Female', 'Male']"
      ]
     },
     "execution_count": 11,
     "metadata": {},
     "output_type": "execute_result"
    },
    {
     "data": {
      "image/png": "[encoded data removed]",
      "text/plain": [
       "<Figure size 640x480 with 1 Axes>"
      ]
     },
     "metadata": {},
     "output_type": "display_data"
    }
   ],
   "source": [
    "# categorical variable, range doesn't apply\n",
    "plot_dist_find_range(train_df, \"Sex\")"
   ]
  },
  {
   "cell_type": "code",
   "execution_count": 12,
   "metadata": {
    "colab": {
     "base_uri": "https://localhost:8080/",
     "height": 490
    },
    "id": "wwke0s-nhO7Z",
    "outputId": "27a491bc-4447-4a11-cd70-e88b79d7e055"
   },
   "outputs": [
    {
     "data": {
      "text/plain": [
       "['Currently smokes', 'Never smoked']"
      ]
     },
     "execution_count": 12,
     "metadata": {},
     "output_type": "execute_result"
    },
    {
     "data": {
      "image/png": "[encoded data removed]",
      "text/plain": [
       "<Figure size 640x480 with 1 Axes>"
      ]
     },
     "metadata": {},
     "output_type": "display_data"
    }
   ],
   "source": [
    "# categorical variable, range doesn't apply\n",
    "plot_dist_find_range(train_df, \"SmokingStatus\")"
   ]
  },
  {
   "cell_type": "markdown",
   "metadata": {
    "id": "NUQP9B8jVxlO"
   },
   "source": [
    "# Implementing ADS"
   ]
  },
  {
   "cell_type": "code",
   "execution_count": 13,
   "metadata": {},
   "outputs": [
    {
     "name": "stdout",
     "output_type": "stream",
     "text": [
      "Requirement already satisfied: opencv-python-headless in /Users/nisha/miniforge3/lib/python3.10/site-packages (4.9.0.80)\n",
      "Requirement already satisfied: numpy>=1.21.2 in /Users/nisha/miniforge3/lib/python3.10/site-packages (from opencv-python-headless) (1.26.4)\n",
      "Requirement already satisfied: pydicom in /Users/nisha/miniforge3/lib/python3.10/site-packages (2.4.4)\n",
      "Requirement already satisfied: tensorflow_addons in /Users/nisha/miniforge3/lib/python3.10/site-packages (0.23.0)\n",
      "Requirement already satisfied: typeguard<3.0.0,>=2.7 in /Users/nisha/miniforge3/lib/python3.10/site-packages (from tensorflow_addons) (2.13.3)\n",
      "Requirement already satisfied: packaging in /Users/nisha/miniforge3/lib/python3.10/site-packages (from tensorflow_addons) (23.1)\n",
      "Requirement already satisfied: scikit-image in /Users/nisha/miniforge3/lib/python3.10/site-packages (0.23.2)\n",
      "Requirement already satisfied: numpy>=1.23 in /Users/nisha/miniforge3/lib/python3.10/site-packages (from scikit-image) (1.26.4)\n",
      "Requirement already satisfied: scipy>=1.9 in /Users/nisha/miniforge3/lib/python3.10/site-packages (from scikit-image) (1.12.0)\n",
      "Requirement already satisfied: networkx>=2.8 in /Users/nisha/miniforge3/lib/python3.10/site-packages (from scikit-image) (3.3)\n",
      "Requirement already satisfied: pillow>=9.1 in /Users/nisha/miniforge3/lib/python3.10/site-packages (from scikit-image) (10.2.0)\n",
      "Requirement already satisfied: imageio>=2.33 in /Users/nisha/miniforge3/lib/python3.10/site-packages (from scikit-image) (2.34.1)\n",
      "Requirement already satisfied: tifffile>=2022.8.12 in /Users/nisha/miniforge3/lib/python3.10/site-packages (from scikit-image) (2024.5.3)\n",
      "Requirement already satisfied: packaging>=21 in /Users/nisha/miniforge3/lib/python3.10/site-packages (from scikit-image) (23.1)\n",
      "Requirement already satisfied: lazy-loader>=0.4 in /Users/nisha/miniforge3/lib/python3.10/site-packages (from scikit-image) (0.4)\n"
     ]
    }
   ],
   "source": [
    "# extra installs needed for my environment\n",
    "!pip install opencv-python-headless\n",
    "!pip install pydicom\n",
    "!pip install tensorflow_addons\n",
    "!pip install scikit-image"
   ]
  },
  {
   "cell_type": "code",
   "execution_count": 14,
   "metadata": {
    "colab": {
     "base_uri": "https://localhost:8080/"
    },
    "id": "dYL2Pvl7Vyli",
    "outputId": "d2033321-a8c5-43ed-9c5c-9a3dd4b83d68"
   },
   "outputs": [
    {
     "name": "stdout",
     "output_type": "stream",
     "text": [
      "Looking in links: ./\n",
      "Processing /Users/nisha/Desktop/spring2024/ResponsibleDataScience/final_project/input/kerasapplications/keras-team-keras-applications-3b180cb\n",
      "  Preparing metadata (setup.py) ... \u001b[?25ldone\n",
      "\u001b[?25hRequirement already satisfied: numpy>=1.9.1 in /Users/nisha/miniforge3/lib/python3.10/site-packages (from Keras-Applications==1.0.8) (1.26.4)\n",
      "Requirement already satisfied: h5py in /Users/nisha/miniforge3/lib/python3.10/site-packages (from Keras-Applications==1.0.8) (3.6.0)\n",
      "Building wheels for collected packages: Keras-Applications\n",
      "  Building wheel for Keras-Applications (setup.py) ... \u001b[?25ldone\n",
      "\u001b[?25h  Created wheel for Keras-Applications: filename=Keras_Applications-1.0.8-py3-none-any.whl size=50699 sha256=1398b561b9a27161c75af990f4862c86a3b5709d4699949d76c4fad3b9fb0371\n",
      "  Stored in directory: /Users/nisha/Library/Caches/pip/wheels/80/48/b4/7e79037092df15f6942998d6334fbb8e059d25a4a7cbed6333\n",
      "Successfully built Keras-Applications\n",
      "Installing collected packages: Keras-Applications\n",
      "  Attempting uninstall: Keras-Applications\n",
      "    Found existing installation: Keras-Applications 1.0.8\n",
      "    Uninstalling Keras-Applications-1.0.8:\n",
      "      Successfully uninstalled Keras-Applications-1.0.8\n",
      "Successfully installed Keras-Applications-1.0.8\n",
      "Looking in links: ./\n",
      "Processing /Users/nisha/Desktop/spring2024/ResponsibleDataScience/final_project/input/efficientnet/efficientnet-1.1.0\n",
      "  Preparing metadata (setup.py) ... \u001b[?25ldone\n",
      "\u001b[?25hRequirement already satisfied: keras_applications<=1.0.8,>=1.0.7 in /Users/nisha/miniforge3/lib/python3.10/site-packages (from efficientnet==1.1.0) (1.0.8)\n",
      "Requirement already satisfied: scikit-image in /Users/nisha/miniforge3/lib/python3.10/site-packages (from efficientnet==1.1.0) (0.23.2)\n",
      "Requirement already satisfied: numpy>=1.9.1 in /Users/nisha/miniforge3/lib/python3.10/site-packages (from keras_applications<=1.0.8,>=1.0.7->efficientnet==1.1.0) (1.26.4)\n",
      "Requirement already satisfied: h5py in /Users/nisha/miniforge3/lib/python3.10/site-packages (from keras_applications<=1.0.8,>=1.0.7->efficientnet==1.1.0) (3.6.0)\n",
      "Requirement already satisfied: scipy>=1.9 in /Users/nisha/miniforge3/lib/python3.10/site-packages (from scikit-image->efficientnet==1.1.0) (1.12.0)\n",
      "Requirement already satisfied: networkx>=2.8 in /Users/nisha/miniforge3/lib/python3.10/site-packages (from scikit-image->efficientnet==1.1.0) (3.3)\n",
      "Requirement already satisfied: pillow>=9.1 in /Users/nisha/miniforge3/lib/python3.10/site-packages (from scikit-image->efficientnet==1.1.0) (10.2.0)\n",
      "Requirement already satisfied: imageio>=2.33 in /Users/nisha/miniforge3/lib/python3.10/site-packages (from scikit-image->efficientnet==1.1.0) (2.34.1)\n",
      "Requirement already satisfied: tifffile>=2022.8.12 in /Users/nisha/miniforge3/lib/python3.10/site-packages (from scikit-image->efficientnet==1.1.0) (2024.5.3)\n",
      "Requirement already satisfied: packaging>=21 in /Users/nisha/miniforge3/lib/python3.10/site-packages (from scikit-image->efficientnet==1.1.0) (23.1)\n",
      "Requirement already satisfied: lazy-loader>=0.4 in /Users/nisha/miniforge3/lib/python3.10/site-packages (from scikit-image->efficientnet==1.1.0) (0.4)\n",
      "Building wheels for collected packages: efficientnet\n",
      "  Building wheel for efficientnet (setup.py) ... \u001b[?25ldone\n",
      "\u001b[?25h  Created wheel for efficientnet: filename=efficientnet-1.1.0-py3-none-any.whl size=14122 sha256=13980f75e0661fa7f3457d6027784382fe77af6c6e82faefced5f1f240aacefd\n",
      "  Stored in directory: /Users/nisha/Library/Caches/pip/wheels/35/8a/fe/5fe670228970848abd60e4a704e3a755e2451068168b10bd5d\n",
      "Successfully built efficientnet\n",
      "Installing collected packages: efficientnet\n",
      "  Attempting uninstall: efficientnet\n",
      "    Found existing installation: efficientnet 1.1.0\n",
      "    Uninstalling efficientnet-1.1.0:\n",
      "      Successfully uninstalled efficientnet-1.1.0\n",
      "Successfully installed efficientnet-1.1.0\n"
     ]
    }
   ],
   "source": [
    "!pip install ../input/kerasapplications/keras-team-keras-applications-3b180cb -f ./ --no-index\n",
    "!pip install ../input/efficientnet/efficientnet-1.1.0/ -f ./ --no-index"
   ]
  },
  {
   "cell_type": "code",
   "execution_count": 15,
   "metadata": {
    "id": "tlKAcIFsWUgW"
   },
   "outputs": [
    {
     "name": "stderr",
     "output_type": "stream",
     "text": [
      "/Users/nisha/miniforge3/lib/python3.10/site-packages/tensorflow_addons/utils/tfa_eol_msg.py:23: UserWarning: \n",
      "\n",
      "TensorFlow Addons (TFA) has ended development and introduction of new features.\n",
      "TFA has entered a minimal maintenance and release mode until a planned end of life in May 2024.\n",
      "Please modify downstream libraries to take dependencies from other repositories in our TensorFlow community (e.g. Keras, Keras-CV, and Keras-NLP). \n",
      "\n",
      "For more information see: https://github.com/tensorflow/addons/issues/2807 \n",
      "\n",
      "  warnings.warn(\n"
     ]
    }
   ],
   "source": [
    "import os\n",
    "import cv2\n",
    "import pydicom\n",
    "import pandas as pd\n",
    "import numpy as np\n",
    "import tensorflow as tf\n",
    "import matplotlib.pyplot as plt\n",
    "import random\n",
    "from tqdm.notebook import tqdm\n",
    "from sklearn.model_selection import train_test_split, KFold\n",
    "from sklearn.metrics import mean_absolute_error\n",
    "from tensorflow_addons.optimizers import RectifiedAdam\n",
    "from tensorflow.keras import Model\n",
    "import tensorflow.keras.backend as K\n",
    "import tensorflow.keras.layers as L\n",
    "import tensorflow.keras.models as M\n",
    "from tensorflow.keras.optimizers import Nadam\n",
    "import seaborn as sns\n",
    "from PIL import Image\n",
    "import warnings\n",
    "\n",
    "warnings.filterwarnings(\"ignore\")\n",
    "\n",
    "def seed_everything(seed=2020):\n",
    "    random.seed(seed)\n",
    "    os.environ['PYTHONHASHSEED'] = str(seed)\n",
    "    np.random.seed(seed)\n",
    "    tf.random.set_seed(seed)\n",
    "\n",
    "seed_everything(42)"
   ]
  },
  {
   "cell_type": "code",
   "execution_count": 16,
   "metadata": {
    "id": "97xYnTqtWt4V"
   },
   "outputs": [],
   "source": [
    "config = tf.compat.v1.ConfigProto()\n",
    "config.gpu_options.allow_growth = True\n",
    "session = tf.compat.v1.Session(config=config)"
   ]
  },
  {
   "cell_type": "code",
   "execution_count": 17,
   "metadata": {
    "id": "SnyMDVR5WvtR"
   },
   "outputs": [],
   "source": [
    "train = pd.read_csv('../input/osic-pulmonary-fibrosis-progression/train.csv')"
   ]
  },
  {
   "cell_type": "markdown",
   "metadata": {
    "id": "QojJ9kqaW7uA"
   },
   "source": [
    "Linear Decay (based on EfficientNets)"
   ]
  },
  {
   "cell_type": "code",
   "execution_count": 18,
   "metadata": {
    "id": "YRZtsBH2W6qi"
   },
   "outputs": [],
   "source": [
    "def get_tab(df):\n",
    "    vector = [(df.Age.values[0] - 30) / 30]\n",
    "\n",
    "    if df.Sex.values[0] == 'male':\n",
    "       vector.append(0)\n",
    "    else:\n",
    "       vector.append(1)\n",
    "\n",
    "    if df.SmokingStatus.values[0] == 'Never smoked':\n",
    "        vector.extend([0,0])\n",
    "    elif df.SmokingStatus.values[0] == 'Ex-smoker':\n",
    "        vector.extend([1,1])\n",
    "    elif df.SmokingStatus.values[0] == 'Currently smokes':\n",
    "        vector.extend([0,1])\n",
    "    else:\n",
    "        vector.extend([1,0])\n",
    "    return np.array(vector)"
   ]
  },
  {
   "cell_type": "code",
   "execution_count": 19,
   "metadata": {
    "colab": {
     "base_uri": "https://localhost:8080/",
     "height": 124,
     "referenced_widgets": [
      "83109e824ec349a1b3ce45471afd8e12",
      "2a3f3ca880c44f299d9ec58d39d3ac11",
      "67ec71b175944767b9563406f7338f35",
      "e82d8e292bf14b4494e4b0b46d1747c2",
      "3d0919274e444167bc9678b2849bb9b8",
      "79a3fb8addde43839dab6fddbab764c3",
      "21d92cc906cb4d2281c726f483ae8500",
      "2210f55006fb460ab65ba41314783928",
      "14df26ed879549a08fe949e705ee6b12",
      "566894d0008c48c1977d5bd8608c4e77",
      "9a049f2d67374b5599033d659571c193"
     ]
    },
    "id": "_NOPNWhhW5b6",
    "outputId": "b1d00cb7-096b-45b8-c8c2-f66b20a070a6"
   },
   "outputs": [
    {
     "data": {
      "application/vnd.jupyter.widget-view+json": {
       "model_id": "1b05c7d39ef74cbaa8475fec534ae2d0",
       "version_major": 2,
       "version_minor": 0
      },
      "text/plain": [
       "0it [00:00, ?it/s]"
      ]
     },
     "metadata": {},
     "output_type": "display_data"
    }
   ],
   "source": [
    "A = {}\n",
    "TAB = {}\n",
    "P = []\n",
    "for i, p in tqdm(enumerate(train.Patient.unique())):\n",
    "    sub = train.loc[train.Patient == p, :]\n",
    "    fvc = sub.FVC.values\n",
    "    weeks = sub.Weeks.values\n",
    "    c = np.vstack([weeks, np.ones(len(weeks))]).T\n",
    "    a, b = np.linalg.lstsq(c, fvc)[0]\n",
    "\n",
    "    A[p] = a\n",
    "    TAB[p] = get_tab(sub)\n",
    "    P.append(p)"
   ]
  },
  {
   "cell_type": "markdown",
   "metadata": {
    "id": "1coBu4WGXKLC"
   },
   "source": [
    "CNN for coeff prediction"
   ]
  },
  {
   "cell_type": "code",
   "execution_count": 20,
   "metadata": {
    "id": "Zh1csrbSXLGn"
   },
   "outputs": [],
   "source": [
    "def get_img(path):\n",
    "    d = pydicom.dcmread(path)\n",
    "    return cv2.resize(d.pixel_array / 2**11, (512, 512))"
   ]
  },
  {
   "cell_type": "code",
   "execution_count": 21,
   "metadata": {
    "id": "45D_qD2fXJ4g"
   },
   "outputs": [],
   "source": [
    "from tensorflow.keras.utils import Sequence\n",
    "\n",
    "class IGenerator(Sequence):\n",
    "    BAD_ID = ['ID00011637202177653955184', 'ID00052637202186188008618']\n",
    "    def __init__(self, keys, a, tab, batch_size=32):\n",
    "        self.keys = [k for k in keys if k not in self.BAD_ID]\n",
    "        self.a = a\n",
    "        self.tab = tab\n",
    "        self.batch_size = batch_size\n",
    "\n",
    "        self.train_data = {}\n",
    "        for p in train.Patient.values:\n",
    "            self.train_data[p] = os.listdir(f'../input/osic-pulmonary-fibrosis-progression/train/{p}/')\n",
    "\n",
    "    def __len__(self):\n",
    "        return 1000\n",
    "\n",
    "    def __getitem__(self, idx):\n",
    "        x = []\n",
    "        a, tab = [], []\n",
    "        keys = np.random.choice(self.keys, size = self.batch_size)\n",
    "        for k in keys:\n",
    "            try:\n",
    "                i = np.random.choice(self.train_data[k], size=1)[0]\n",
    "                img = get_img(f'../input/osic-pulmonary-fibrosis-progression/train/{k}/{i}')\n",
    "                x.append(img)\n",
    "                a.append(self.a[k])\n",
    "                tab.append(self.tab[k])\n",
    "            except:\n",
    "                print(k, i)\n",
    "\n",
    "        x,a,tab = np.array(x), np.array(a), np.array(tab)\n",
    "        x = np.expand_dims(x, axis=-1)\n",
    "        return [x, tab] , a"
   ]
  },
  {
   "cell_type": "code",
   "execution_count": 22,
   "metadata": {
    "colab": {
     "base_uri": "https://localhost:8080/",
     "height": 355
    },
    "id": "H2yqFfANXWQM",
    "outputId": "22ac8e1c-2e4e-47a7-c501-58e12785f8bf"
   },
   "outputs": [
    {
     "name": "stdout",
     "output_type": "stream",
     "text": [
      "Number of models: 1\n"
     ]
    }
   ],
   "source": [
    "from tensorflow.keras.layers import (\n",
    "    Dense, Dropout, Activation, Flatten, Input, BatchNormalization, GlobalAveragePooling2D, Add, Conv2D, AveragePooling2D,\n",
    "    LeakyReLU, Concatenate\n",
    ")\n",
    "import efficientnet.tfkeras as efn\n",
    "\n",
    "def get_efficientnet(model, shape):\n",
    "    models_dict = {\n",
    "        'b0': efn.EfficientNetB0(input_shape=shape,weights=None,include_top=False),\n",
    "        'b1': efn.EfficientNetB1(input_shape=shape,weights=None,include_top=False),\n",
    "        'b2': efn.EfficientNetB2(input_shape=shape,weights=None,include_top=False),\n",
    "        'b3': efn.EfficientNetB3(input_shape=shape,weights=None,include_top=False),\n",
    "        'b4': efn.EfficientNetB4(input_shape=shape,weights=None,include_top=False),\n",
    "        'b5': efn.EfficientNetB5(input_shape=shape,weights=None,include_top=False),\n",
    "        'b6': efn.EfficientNetB6(input_shape=shape,weights=None,include_top=False),\n",
    "        'b7': efn.EfficientNetB7(input_shape=shape,weights=None,include_top=False)\n",
    "    }\n",
    "    return models_dict[model]\n",
    "\n",
    "def build_model(shape=(512, 512, 1), model_class=None):\n",
    "    inp = Input(shape=shape)\n",
    "    base = get_efficientnet(model_class, shape)\n",
    "    x = base(inp)\n",
    "    x = GlobalAveragePooling2D()(x)\n",
    "    inp2 = Input(shape=(4,))\n",
    "    x2 = tf.keras.layers.GaussianNoise(0.2)(inp2)\n",
    "    x = Concatenate()([x, x2])\n",
    "    x = Dropout(0.5)(x)\n",
    "    x = Dense(1)(x)\n",
    "    model = Model([inp, inp2] , x)\n",
    "\n",
    "    weights = [w for w in os.listdir('../input/osic-model-weights') if model_class in w][0]\n",
    "#     model.load_weights('../input/osic-model-weights/' + weights)\n",
    "    model.load_weights('../input/effnet-b5-30epochs-1/effnet_30.h5')\n",
    "    return model\n",
    "\n",
    "model_classes = ['b5'] #['b0','b1','b2','b3',b4','b5','b6','b7']\n",
    "models = [build_model(shape=(512, 512, 1), model_class=m) for m in model_classes]\n",
    "print('Number of models: ' + str(len(models)))"
   ]
  },
  {
   "cell_type": "code",
   "execution_count": 23,
   "metadata": {
    "id": "85cZ6kbJXeIV"
   },
   "outputs": [],
   "source": [
    "from sklearn.model_selection import train_test_split\n",
    "\n",
    "tr_p, vl_p = train_test_split(P,\n",
    "                              shuffle=True,\n",
    "                              train_size= 1)"
   ]
  },
  {
   "cell_type": "code",
   "execution_count": 24,
   "metadata": {
    "id": "6-o1V8CjXffT"
   },
   "outputs": [
    {
     "data": {
      "image/png": "[encoded data removed]",
      "text/plain": [
       "<Figure size 640x480 with 1 Axes>"
      ]
     },
     "metadata": {},
     "output_type": "display_data"
    }
   ],
   "source": [
    "sns.distplot(list(A.values()));"
   ]
  },
  {
   "cell_type": "code",
   "execution_count": 25,
   "metadata": {},
   "outputs": [],
   "source": [
    "def score(fvc_true, fvc_pred, sigma):\n",
    "    sigma_clip = np.maximum(sigma, 70) # changed from 70, trie 66.7 too\n",
    "    delta = np.abs(fvc_true - fvc_pred)\n",
    "    delta = np.minimum(delta, 1000)\n",
    "    sq2 = np.sqrt(2)\n",
    "    metric = (delta / sigma_clip)*sq2 + np.log(sigma_clip* sq2)\n",
    "    return np.mean(metric)"
   ]
  },
  {
   "cell_type": "code",
   "execution_count": null,
   "metadata": {},
   "outputs": [
    {
     "name": "stdout",
     "output_type": "stream",
     "text": [
      "1/1 [==============================] - 10s 10s/step\n",
      "2/2 [==============================] - 24s 13s/step\n",
      " 3/15 [=====>........................] - ETA: 2:06"
     ]
    }
   ],
   "source": [
    "subs = []\n",
    "for model in models:\n",
    "\n",
    "    q = 0.5\n",
    "\n",
    "    sub = pd.read_csv('../input/osic-pulmonary-fibrosis-progression/sample_submission.csv') \n",
    "    test = pd.read_csv('../input/osic-pulmonary-fibrosis-progression/test.csv') \n",
    "    A_test, B_test, P_test,W, FVC= {}, {}, {},{},{} \n",
    "    STD, WEEK = {}, {} \n",
    "    for p in test.Patient.unique():\n",
    "        x = [] \n",
    "        tab = [] \n",
    "        ldir = os.listdir(f'../input/osic-pulmonary-fibrosis-progression/test/{p}/')\n",
    "        for i in ldir:\n",
    "            if int(i[:-4]) / len(ldir) < 1.1 and int(i[:-4]) / len(ldir) > -0.1:\n",
    "                x.append(get_img(f'../input/osic-pulmonary-fibrosis-progression/test/{p}/{i}')) \n",
    "                tab.append(get_tab(test.loc[test.Patient == p, :])) \n",
    "        if len(x) <= 1:\n",
    "            continue\n",
    "        tab = np.array(tab) \n",
    "\n",
    "        x = np.expand_dims(x, axis=-1) \n",
    "        _a = model.predict([x, tab]) \n",
    "        a = np.quantile(_a, q)\n",
    "        A_test[p] = a\n",
    "        B_test[p] = test.FVC.values[test.Patient == p] - a*test.Weeks.values[test.Patient == p]\n",
    "        P_test[p] = test.Percent.values[test.Patient == p] \n",
    "        WEEK[p] = test.Weeks.values[test.Patient == p]\n",
    "\n",
    "    for k in sub.Patient_Week.values:\n",
    "        p, w = k.split('_')\n",
    "        w = int(w) \n",
    "\n",
    "        fvc = A_test[p] * w + B_test[p]\n",
    "        sub.loc[sub.Patient_Week == k, 'FVC'] = fvc\n",
    "        sub.loc[sub.Patient_Week == k, 'Confidence'] = (\n",
    "            P_test[p] - A_test[p] * abs(WEEK[p] - w) \n",
    "    ) \n",
    "\n",
    "    _sub = sub[[\"Patient_Week\",\"FVC\",\"Confidence\"]].copy()\n",
    "    subs.append(_sub)"
   ]
  },
  {
   "cell_type": "markdown",
   "metadata": {},
   "source": [
    "\n",
    "Averaging Predictions¶\n"
   ]
  },
  {
   "cell_type": "code",
   "execution_count": null,
   "metadata": {},
   "outputs": [],
   "source": [
    "N = len(subs)\n",
    "sub = subs[0].copy() # ref\n",
    "sub[\"FVC\"] = 0\n",
    "sub[\"Confidence\"] = 0\n",
    "for i in range(N):\n",
    "    sub[\"FVC\"] += subs[0][\"FVC\"] * (1/N)\n",
    "    sub[\"Confidence\"] += subs[0][\"Confidence\"] * (1/N)"
   ]
  },
  {
   "cell_type": "code",
   "execution_count": null,
   "metadata": {},
   "outputs": [],
   "source": [
    "sub.head()"
   ]
  },
  {
   "cell_type": "code",
   "execution_count": null,
   "metadata": {},
   "outputs": [],
   "source": [
    "sub[[\"Patient_Week\",\"FVC\",\"Confidence\"]].to_csv(\"submission_img.csv\", index=False)"
   ]
  },
  {
   "cell_type": "code",
   "execution_count": null,
   "metadata": {},
   "outputs": [],
   "source": [
    "img_sub = sub[[\"Patient_Week\",\"FVC\",\"Confidence\"]].copy()"
   ]
  },
  {
   "cell_type": "markdown",
   "metadata": {},
   "source": [
    "Osic-Multiple-Quantile-Regression"
   ]
  },
  {
   "cell_type": "code",
   "execution_count": null,
   "metadata": {},
   "outputs": [],
   "source": [
    "ROOT = \"../input/osic-pulmonary-fibrosis-progression\"\n",
    "BATCH_SIZE=128\n",
    "\n",
    "tr = pd.read_csv(f\"{ROOT}/train.csv\")\n",
    "tr.drop_duplicates(keep=False, inplace=True, subset=['Patient','Weeks'])\n",
    "chunk = pd.read_csv(f\"{ROOT}/test.csv\")\n",
    "\n",
    "print(\"add infos\")\n",
    "sub = pd.read_csv(f\"{ROOT}/sample_submission.csv\")\n",
    "sub['Patient'] = sub['Patient_Week'].apply(lambda x:x.split('_')[0])\n",
    "sub['Weeks'] = sub['Patient_Week'].apply(lambda x: int(x.split('_')[-1]))\n",
    "sub =  sub[['Patient','Weeks','Confidence','Patient_Week']]\n",
    "sub = sub.merge(chunk.drop('Weeks', axis=1), on=\"Patient\")"
   ]
  },
  {
   "cell_type": "code",
   "execution_count": null,
   "metadata": {},
   "outputs": [],
   "source": [
    "tr['WHERE'] = 'train'\n",
    "chunk['WHERE'] = 'val'\n",
    "sub['WHERE'] = 'test'\n",
    "data = pd.concat([tr, chunk, sub])"
   ]
  },
  {
   "cell_type": "code",
   "execution_count": null,
   "metadata": {},
   "outputs": [],
   "source": [
    "print(tr.shape, chunk.shape, sub.shape, data.shape)\n",
    "print(tr.Patient.nunique(), chunk.Patient.nunique(), sub.Patient.nunique(), \n",
    "      data.Patient.nunique())\n",
    "#"
   ]
  },
  {
   "cell_type": "code",
   "execution_count": null,
   "metadata": {},
   "outputs": [],
   "source": [
    "data['min_week'] = data['Weeks']\n",
    "data.loc[data.WHERE=='test','min_week'] = np.nan\n",
    "data['min_week'] = data.groupby('Patient')['min_week'].transform('min')"
   ]
  },
  {
   "cell_type": "code",
   "execution_count": null,
   "metadata": {},
   "outputs": [],
   "source": [
    "base = data.loc[data.Weeks == data.min_week]\n",
    "base = base[['Patient','FVC']].copy()\n",
    "base.columns = ['Patient','min_FVC']\n",
    "base['nb'] = 1\n",
    "base['nb'] = base.groupby('Patient')['nb'].transform('cumsum')\n",
    "base = base[base.nb==1]\n",
    "base.drop('nb', axis=1, inplace=True)"
   ]
  },
  {
   "cell_type": "code",
   "execution_count": null,
   "metadata": {},
   "outputs": [],
   "source": [
    "data = data.merge(base, on='Patient', how='left')\n",
    "data['base_week'] = data['Weeks'] - data['min_week']\n",
    "del base"
   ]
  },
  {
   "cell_type": "code",
   "execution_count": null,
   "metadata": {},
   "outputs": [],
   "source": [
    "COLS = ['Sex','SmokingStatus'] #,'Age'\n",
    "FE = []\n",
    "for col in COLS:\n",
    "    for mod in data[col].unique():\n",
    "        FE.append(mod)\n",
    "        data[mod] = (data[col] == mod).astype(int)"
   ]
  },
  {
   "cell_type": "code",
   "execution_count": null,
   "metadata": {},
   "outputs": [],
   "source": [
    "#\n",
    "data['age'] = (data['Age'] - data['Age'].min() ) / ( data['Age'].max() - data['Age'].min() )\n",
    "data['BASE'] = (data['min_FVC'] - data['min_FVC'].min() ) / ( data['min_FVC'].max() - data['min_FVC'].min() )\n",
    "data['week'] = (data['base_week'] - data['base_week'].min() ) / ( data['base_week'].max() - data['base_week'].min() )\n",
    "#data['percent'] = (data['Percent'] - data['Percent'].min() ) / ( data['Percent'].max() - data['Percent'].min() )\n",
    "FE += ['age','week','BASE']"
   ]
  },
  {
   "cell_type": "code",
   "execution_count": null,
   "metadata": {},
   "outputs": [],
   "source": [
    "tr = data.loc[data.WHERE=='train']\n",
    "chunk = data.loc[data.WHERE=='val']\n",
    "sub = data.loc[data.WHERE=='test']\n",
    "del data"
   ]
  },
  {
   "cell_type": "code",
   "execution_count": null,
   "metadata": {},
   "outputs": [],
   "source": [
    "tr.shape, chunk.shape, sub.shape"
   ]
  },
  {
   "cell_type": "code",
   "execution_count": null,
   "metadata": {},
   "outputs": [],
   "source": [
    "from tensorflow.keras.optimizers.legacy import Adam\n",
    "\n",
    "C1, C2 = tf.constant(70, dtype='float32'), tf.constant(1000, dtype=\"float32\")\n",
    "\n",
    "def score(y_true, y_pred):\n",
    "    # tf.dtypes.cast(y_true, tf.float32)\n",
    "    # tf.dtypes.cast(y_pred, tf.float32)\n",
    "    y_true = tf.cast(y_true, tf.float32)\n",
    "    y_pred = tf.cast(y_pred, tf.float32)\n",
    "    sigma = y_pred[:, 2] - y_pred[:, 0]\n",
    "    fvc_pred = y_pred[:, 1]\n",
    "    \n",
    "    #sigma_clip = sigma + C1\n",
    "    sigma_clip = tf.maximum(sigma, C1)\n",
    "    delta = tf.abs(y_true[:, 0] - fvc_pred)\n",
    "    delta = tf.minimum(delta, C2)\n",
    "    # sq2 = tf.sqrt( tf.dtypes.cast(2, dtype=tf.float32) )\n",
    "    sq2 = tf.sqrt(tf.cast(2, dtype=tf.float32))\n",
    "    metric = (delta / sigma_clip)*sq2 + tf.math.log(sigma_clip* sq2)\n",
    "    return K.mean(metric)\n",
    "\n",
    "def qloss(y_true, y_pred):\n",
    "    y_true = tf.cast(y_true, tf.float32)\n",
    "    y_pred = tf.cast(y_pred, tf.float32)\n",
    "    \n",
    "    # Pinball loss for multiple quantiles\n",
    "    qs = [0.2, 0.50, 0.8]\n",
    "    q = tf.constant(np.array([qs]), dtype=tf.float32)\n",
    "    e = y_true - y_pred\n",
    "    v = tf.maximum(q*e, (q-1)*e)\n",
    "    return K.mean(v)\n",
    "\n",
    "def mloss(_lambda):\n",
    "    def loss(y_true, y_pred):\n",
    "        y_true = tf.cast(y_true, tf.float32)\n",
    "        y_pred = tf.cast(y_pred, tf.float32)\n",
    "        \n",
    "        return _lambda * qloss(y_true, y_pred) + (1 - _lambda)*score(y_true, y_pred)\n",
    "    return loss\n",
    "\n",
    "def make_model(nh):\n",
    "    z = L.Input((nh,), name=\"Patient\")\n",
    "    x = L.Dense(100, activation=\"relu\", name=\"d1\")(z)\n",
    "    x = L.Dense(100, activation=\"relu\", name=\"d2\")(x)\n",
    "    #x = L.Dense(100, activation=\"relu\", name=\"d3\")(x)\n",
    "    p1 = L.Dense(3, activation=\"linear\", name=\"p1\")(x)\n",
    "    p2 = L.Dense(3, activation=\"relu\", name=\"p2\")(x)\n",
    "    preds = L.Lambda(lambda x: x[0] + tf.cumsum(x[1], axis=1), \n",
    "                     name=\"preds\")([p1, p2])\n",
    "    \n",
    "    model = M.Model(z, preds, name=\"CNN\")\n",
    "    #model.compile(loss=qloss, optimizer=\"adam\", metrics=[score])\n",
    "    # model.compile(loss=mloss(0.8), optimizer=tf.keras.optimizers.Adam(learning_rate=0.1, beta_1=0.9, beta_2=0.999, epsilon=None, amsgrad=False), metrics=[score])\n",
    "    model.compile(loss=mloss(0.8), optimizer=Adam(learning_rate=0.1, beta_1=0.9, beta_2=0.999, epsilon=1e-08, amsgrad=False), metrics=[score])\n",
    "\n",
    "    return model"
   ]
  },
  {
   "cell_type": "code",
   "execution_count": null,
   "metadata": {},
   "outputs": [],
   "source": [
    "y = tr['FVC'].values\n",
    "z = tr[FE].values\n",
    "ze = sub[FE].values\n",
    "nh = z.shape[1]\n",
    "pe = np.zeros((ze.shape[0], 3))\n",
    "pred = np.zeros((z.shape[0], 3))"
   ]
  },
  {
   "cell_type": "code",
   "execution_count": null,
   "metadata": {},
   "outputs": [],
   "source": [
    "net = make_model(nh)\n",
    "print(net.summary())\n",
    "print(net.count_params())"
   ]
  },
  {
   "cell_type": "code",
   "execution_count": null,
   "metadata": {},
   "outputs": [],
   "source": [
    "NFOLD = 2 # originally 5\n",
    "kf = KFold(n_splits=NFOLD)"
   ]
  },
  {
   "cell_type": "code",
   "execution_count": null,
   "metadata": {},
   "outputs": [],
   "source": [
    "def check_finite(data, label):\n",
    "    if not np.isfinite(data).all():\n",
    "        print(f\"Non-finite found in {label}\")"
   ]
  },
  {
   "cell_type": "code",
   "execution_count": null,
   "metadata": {},
   "outputs": [],
   "source": [
    "%%time\n",
    "cnt = 0\n",
    "EPOCHS = 600\n",
    "for tr_idx, val_idx in kf.split(z):\n",
    "    cnt += 1\n",
    "    print(f\"FOLD {cnt}\")\n",
    "    net = make_model(nh)\n",
    "    net.fit(z[tr_idx], y[tr_idx], batch_size=BATCH_SIZE, epochs=EPOCHS, \n",
    "            validation_data=(z[val_idx], y[val_idx]), verbose=0) #\n",
    "    print(\"train\", net.evaluate(z[tr_idx], y[tr_idx], verbose=0, batch_size=BATCH_SIZE))\n",
    "    print(\"val\", net.evaluate(z[val_idx], y[val_idx], verbose=0, batch_size=BATCH_SIZE))\n",
    "    print(\"predict val...\")\n",
    "    pred[val_idx] = net.predict(z[val_idx], batch_size=BATCH_SIZE, verbose=0)\n",
    "    print(\"predict test...\")\n",
    "    pe += net.predict(ze, batch_size=BATCH_SIZE, verbose=0) / NFOLD"
   ]
  },
  {
   "cell_type": "code",
   "execution_count": null,
   "metadata": {},
   "outputs": [],
   "source": [
    "sigma_opt = mean_absolute_error(y, pred[:, 1])\n",
    "unc = pred[:,2] - pred[:, 0]\n",
    "sigma_mean = np.mean(unc)\n",
    "print(sigma_opt, sigma_mean)"
   ]
  },
  {
   "cell_type": "code",
   "execution_count": null,
   "metadata": {},
   "outputs": [],
   "source": [
    "idxs = np.random.randint(0, y.shape[0], 100)\n",
    "plt.plot(y[idxs], label=\"ground truth\")\n",
    "plt.plot(pred[idxs, 0], label=\"q25\")\n",
    "plt.plot(pred[idxs, 1], label=\"q50\")\n",
    "plt.plot(pred[idxs, 2], label=\"q75\")\n",
    "plt.legend(loc=\"best\")\n",
    "plt.show()"
   ]
  },
  {
   "cell_type": "code",
   "execution_count": null,
   "metadata": {},
   "outputs": [],
   "source": [
    "print(unc.min(), unc.mean(), unc.max(), (unc>=0).mean())"
   ]
  },
  {
   "cell_type": "code",
   "execution_count": null,
   "metadata": {},
   "outputs": [],
   "source": [
    "plt.hist(unc)\n",
    "plt.title(\"uncertainty in prediction\")\n",
    "plt.show()"
   ]
  },
  {
   "cell_type": "code",
   "execution_count": null,
   "metadata": {},
   "outputs": [],
   "source": [
    "sub.head()"
   ]
  },
  {
   "cell_type": "code",
   "execution_count": null,
   "metadata": {},
   "outputs": [],
   "source": [
    "# PREDICTION\n",
    "sub['FVC1'] = 1.*pe[:, 1]\n",
    "sub['Confidence1'] = pe[:, 2] - pe[:, 0]\n",
    "subm = sub[['Patient_Week','FVC','Confidence','FVC1','Confidence1']].copy()\n",
    "subm.loc[~subm.FVC1.isnull()].head(10)"
   ]
  },
  {
   "cell_type": "code",
   "execution_count": null,
   "metadata": {},
   "outputs": [],
   "source": [
    "subm.loc[~subm.FVC1.isnull(),'FVC'] = subm.loc[~subm.FVC1.isnull(),'FVC1']\n",
    "sigma_mean = 60\n",
    "if sigma_mean<sigma_mean:\n",
    "    subm['Confidence'] = sigma_opt\n",
    "else:\n",
    "    subm.loc[~subm.FVC1.isnull(),'Confidence'] = subm.loc[~subm.FVC1.isnull(),'Confidence1']"
   ]
  },
  {
   "cell_type": "code",
   "execution_count": null,
   "metadata": {},
   "outputs": [],
   "source": [
    "subm.head()"
   ]
  },
  {
   "cell_type": "code",
   "execution_count": null,
   "metadata": {},
   "outputs": [],
   "source": [
    "subm.describe().T"
   ]
  },
  {
   "cell_type": "code",
   "execution_count": null,
   "metadata": {},
   "outputs": [],
   "source": [
    "otest = pd.read_csv('../input/osic-pulmonary-fibrosis-progression/test.csv')\n",
    "for i in range(len(otest)):\n",
    "    subm.loc[subm['Patient_Week']==otest.Patient[i]+'_'+str(otest.Weeks[i]), 'FVC'] = otest.FVC[i]\n",
    "    subm.loc[subm['Patient_Week']==otest.Patient[i]+'_'+str(otest.Weeks[i]), 'Confidence'] = 0.1"
   ]
  },
  {
   "cell_type": "code",
   "execution_count": null,
   "metadata": {},
   "outputs": [],
   "source": [
    "subm[[\"Patient_Week\",\"FVC\",\"Confidence\"]].to_csv(\"submission_regression.csv\", index=False)"
   ]
  },
  {
   "cell_type": "code",
   "execution_count": null,
   "metadata": {},
   "outputs": [],
   "source": [
    "reg_sub = subm[[\"Patient_Week\",\"FVC\",\"Confidence\"]].copy()"
   ]
  },
  {
   "cell_type": "markdown",
   "metadata": {},
   "source": [
    "Ensemble (Simple Blend)"
   ]
  },
  {
   "cell_type": "code",
   "execution_count": null,
   "metadata": {},
   "outputs": [],
   "source": [
    "df1 = img_sub.sort_values(by=['Patient_Week'], ascending=True).reset_index(drop=True)\n",
    "df2 = reg_sub.sort_values(by=['Patient_Week'], ascending=True).reset_index(drop=True)"
   ]
  },
  {
   "cell_type": "code",
   "execution_count": null,
   "metadata": {},
   "outputs": [],
   "source": [
    "df = df1[['Patient_Week']].copy()\n",
    "df['FVC'] = (0.45*df1['FVC'] + 0.55*df2['FVC'])\n",
    "df['Confidence'] = (0.45*df1['Confidence'] + 0.55*df2['Confidence'])\n",
    "df.head()"
   ]
  },
  {
   "cell_type": "code",
   "execution_count": null,
   "metadata": {},
   "outputs": [],
   "source": [
    "df.to_csv('submission.csv', index=False)"
   ]
  },
  {
   "cell_type": "markdown",
   "metadata": {
    "id": "OTa_FgzGsPbD"
   },
   "source": [
    "# Evaluating performance of original ADS"
   ]
  },
  {
   "cell_type": "code",
   "execution_count": null,
   "metadata": {
    "colab": {
     "base_uri": "https://localhost:8080/"
    },
    "id": "xc1BsxxZyyXj",
    "outputId": "5584a9b4-b82a-44c7-b117-c7b3ca322416"
   },
   "outputs": [],
   "source": [
    "submission_df = pd.read_csv(\"submission.csv\")\n",
    "submission_df['Patient'] = submission_df['Patient_Week'].apply(lambda x: x.split('_')[0])\n",
    "submission_df['Weeks'] = submission_df['Patient_Week'].apply(lambda x: int(x.split('_')[1]))\n",
    "print(submission_df.head())"
   ]
  },
  {
   "cell_type": "code",
   "execution_count": null,
   "metadata": {
    "colab": {
     "base_uri": "https://localhost:8080/"
    },
    "id": "wXO_D7dNCw_I",
    "outputId": "542b2e34-7400-46be-f5f1-db5f53724413"
   },
   "outputs": [],
   "source": [
    "combined_df = pd.concat([train_df, test_df], axis=0)\n",
    "print(combined_df.head())"
   ]
  },
  {
   "cell_type": "code",
   "execution_count": null,
   "metadata": {
    "colab": {
     "base_uri": "https://localhost:8080/"
    },
    "id": "rRTAtjvmBqXb",
    "outputId": "34cb73b2-48b2-46ea-c931-971ab594de56"
   },
   "outputs": [],
   "source": [
    "merged_df = pd.merge(submission_df, combined_df, on=['Patient', 'Weeks'], suffixes=('_pred', '_actual'))\n",
    "print(merged_df.head())"
   ]
  },
  {
   "cell_type": "code",
   "execution_count": null,
   "metadata": {
    "colab": {
     "base_uri": "https://localhost:8080/"
    },
    "id": "MyBfh-KzKgrg",
    "outputId": "66a89e3f-8a5f-4d46-a2a6-e354a22feef0"
   },
   "outputs": [],
   "source": [
    "# note the significant loss in data when creating merged_df\n",
    "# due to lack of rows where patient/week in submission.csv matches patient/week in train/test.csv\n",
    "print(\"Number of rows in submission.csv:\", len(submission_df.index))\n",
    "print(\"Number of rows in train.csv & test.csv:\", len(combined_df.index))\n",
    "print(\"Number of rows in merged_df:\", len(merged_df.index))"
   ]
  },
  {
   "cell_type": "code",
   "execution_count": null,
   "metadata": {
    "colab": {
     "base_uri": "https://localhost:8080/"
    },
    "id": "h60LwXzZ3D6G",
    "outputId": "1162ad58-8480-4c94-8e61-2f02230de122"
   },
   "outputs": [],
   "source": [
    "# calculate accuracy metrics\n",
    "mae = mean_absolute_error(merged_df['FVC_actual'], merged_df['FVC_pred'])\n",
    "rmse = mean_squared_error(merged_df['FVC_actual'], merged_df['FVC_pred'], squared=False)\n",
    "print(\"Mean Absolute Error:\", mae)\n",
    "print(\"Root Mean Squared Error:\", rmse)"
   ]
  },
  {
   "cell_type": "code",
   "execution_count": null,
   "metadata": {
    "id": "5e5yVy8hFgUy"
   },
   "outputs": [],
   "source": [
    "# functions for fairness metrics\n",
    "def mean_prediction_bias(data, group_column):\n",
    "    bias = {}\n",
    "    for group in data[group_column].unique():\n",
    "        subgroup_data = data[data[group_column] == group]\n",
    "        actual_mean = subgroup_data['FVC_actual'].mean()\n",
    "        predicted_mean = subgroup_data['FVC_pred'].mean()\n",
    "        bias[group] = predicted_mean - actual_mean\n",
    "    return bias\n",
    "\n",
    "def coefficient_of_variation_ratio(data, group_column):\n",
    "    cvr = {}\n",
    "    groups = data[group_column].unique()\n",
    "    group_cvs = {group: data[data[group_column] == group]['FVC_pred'].std() / data[data[group_column] == group]['FVC_pred'].mean() for group in groups}\n",
    "    base_cv = group_cvs[next(iter(groups))]  # use the first group as a reference\n",
    "    for group, cv in group_cvs.items():\n",
    "        cvr[group] = cv / base_cv\n",
    "    return cvr"
   ]
  },
  {
   "cell_type": "code",
   "execution_count": null,
   "metadata": {
    "colab": {
     "base_uri": "https://localhost:8080/"
    },
    "id": "loE2vrV-Fmis",
    "outputId": "5cd95ad2-a73d-48d4-bfcc-135350efe4d4"
   },
   "outputs": [],
   "source": [
    "# calculate fairness metrics by gender\n",
    "bias_by_sex = mean_prediction_bias(merged_df, 'Sex')\n",
    "cvr_by_sex = coefficient_of_variation_ratio(merged_df, 'Sex')\n",
    "\n",
    "print(bias_by_sex)\n",
    "print(cvr_by_sex)\n",
    "\n",
    "# no instances of females in merged_df :(\n",
    "print(\"Female count in merged data:\", merged_df[merged_df['Sex'] == 'Female'].shape[0])\n",
    "print(\"Male count in merged data:\", merged_df[merged_df['Sex'] == 'Male'].shape[0])"
   ]
  },
  {
   "cell_type": "code",
   "execution_count": null,
   "metadata": {
    "colab": {
     "base_uri": "https://localhost:8080/"
    },
    "id": "tNaaNbeMFreV",
    "outputId": "4629a5da-9cb3-43da-c75b-3ce32e87f9b2"
   },
   "outputs": [],
   "source": [
    "# calculate fairness metrics by age\n",
    "\n",
    "age_bins = [0, 50, 60, 70, 100]\n",
    "age_labels = ['<50', '50-60', '60-70', '70+']\n",
    "merged_df['AgeGroup'] = pd.cut(merged_df['Age'], bins=age_bins, labels=age_labels, right=False)\n",
    "\n",
    "bias_by_age = mean_prediction_bias(merged_df, 'AgeGroup')\n",
    "cvr_by_age = coefficient_of_variation_ratio(merged_df, 'AgeGroup')\n",
    "\n",
    "print(bias_by_age)\n",
    "print(cvr_by_age)\n",
    "\n",
    "# no instances of age < 60 in merged_df :(\n",
    "print(\"<50 count in merged data:\", merged_df[merged_df['AgeGroup'] == '<50'].shape[0])\n",
    "print(\"50-60 count in merged data:\", merged_df[merged_df['AgeGroup'] == '50-60'].shape[0])\n",
    "print(\"60-70 count in merged data:\", merged_df[merged_df['AgeGroup'] == '60-70'].shape[0])\n",
    "print(\"70+ count in merged data:\", merged_df[merged_df['AgeGroup'] == '70+'].shape[0])"
   ]
  },
  {
   "cell_type": "code",
   "execution_count": null,
   "metadata": {
    "colab": {
     "base_uri": "https://localhost:8080/"
    },
    "id": "6wmZcvqYKP9v",
    "outputId": "daf88da6-70ea-43ae-a5e9-946af1b39748"
   },
   "outputs": [],
   "source": [
    "# additional methods for analyzing performance of ADS\n",
    "  # assess stability & robustness by analyzing variations in performance metrics across different random seeds\n",
    "def run_diff_seeds(seed):\n",
    "    # seed everything for reproducibility\n",
    "    seed_everything(seed)\n",
    "\n",
    "    config = tf.compat.v1.ConfigProto()\n",
    "    config.gpu_options.allow_growth = True\n",
    "    session = tf.compat.v1.Session(config=config)\n",
    "    \n",
    "    train = pd.read_csv('../input/osic-pulmonary-fibrosis-progression/train.csv')\n",
    "\n",
    "    A = {}\n",
    "    TAB = {}\n",
    "    P = []\n",
    "    for i, p in tqdm(enumerate(train.Patient.unique())):\n",
    "        sub = train.loc[train.Patient == p, :]\n",
    "        fvc = sub.FVC.values\n",
    "        weeks = sub.Weeks.values\n",
    "        c = np.vstack([weeks, np.ones(len(weeks))]).T\n",
    "        a, b = np.linalg.lstsq(c, fvc)[0]\n",
    "    \n",
    "        A[p] = a\n",
    "        TAB[p] = get_tab(sub)\n",
    "        P.append(p)\n",
    "\n",
    "    class IGenerator(Sequence):\n",
    "        BAD_ID = ['ID00011637202177653955184', 'ID00052637202186188008618']\n",
    "        def __init__(self, keys, a, tab, batch_size=32):\n",
    "            self.keys = [k for k in keys if k not in self.BAD_ID]\n",
    "            self.a = a\n",
    "            self.tab = tab\n",
    "            self.batch_size = batch_size\n",
    "    \n",
    "            self.train_data = {}\n",
    "            for p in train.Patient.values:\n",
    "                self.train_data[p] = os.listdir(f'../input/osic-pulmonary-fibrosis-progression/train/{p}/')\n",
    "    \n",
    "        def __len__(self):\n",
    "            return 1000\n",
    "    \n",
    "        def __getitem__(self, idx):\n",
    "            x = []\n",
    "            a, tab = [], []\n",
    "            keys = np.random.choice(self.keys, size = self.batch_size)\n",
    "            for k in keys:\n",
    "                try:\n",
    "                    i = np.random.choice(self.train_data[k], size=1)[0]\n",
    "                    img = get_img(f'../input/osic-pulmonary-fibrosis-progression/train/{k}/{i}')\n",
    "                    x.append(img)\n",
    "                    a.append(self.a[k])\n",
    "                    tab.append(self.tab[k])\n",
    "                except:\n",
    "                    print(k, i)\n",
    "    \n",
    "            x,a,tab = np.array(x), np.array(a), np.array(tab)\n",
    "            x = np.expand_dims(x, axis=-1)\n",
    "            return [x, tab] , a\n",
    "\n",
    "    model_classes = ['b5'] #['b0','b1','b2','b3',b4','b5','b6','b7']\n",
    "    models = [build_model(shape=(512, 512, 1), model_class=m) for m in model_classes]\n",
    "    print('Number of models: ' + str(len(models)))\n",
    "    \n",
    "    tr_p, vl_p = train_test_split(P,\n",
    "                                  shuffle=True,\n",
    "                                  train_size= 1)\n",
    "\n",
    "    sns.distplot(list(A.values()))\n",
    "\n",
    "    subs = []\n",
    "    for model in models:\n",
    "    \n",
    "        q = 0.5\n",
    "    \n",
    "        sub = pd.read_csv('../input/osic-pulmonary-fibrosis-progression/sample_submission.csv') \n",
    "        test = pd.read_csv('../input/osic-pulmonary-fibrosis-progression/test.csv') \n",
    "        A_test, B_test, P_test,W, FVC= {}, {}, {},{},{} \n",
    "        STD, WEEK = {}, {} \n",
    "        for p in test.Patient.unique():\n",
    "            x = [] \n",
    "            tab = [] \n",
    "            ldir = os.listdir(f'../input/osic-pulmonary-fibrosis-progression/test/{p}/')\n",
    "            for i in ldir:\n",
    "                if int(i[:-4]) / len(ldir) < 1.1 and int(i[:-4]) / len(ldir) > -0.1:\n",
    "                    x.append(get_img(f'../input/osic-pulmonary-fibrosis-progression/test/{p}/{i}')) \n",
    "                    tab.append(get_tab(test.loc[test.Patient == p, :])) \n",
    "            if len(x) <= 1:\n",
    "                continue\n",
    "            tab = np.array(tab) \n",
    "    \n",
    "            x = np.expand_dims(x, axis=-1) \n",
    "            _a = model.predict([x, tab]) \n",
    "            a = np.quantile(_a, q)\n",
    "            A_test[p] = a\n",
    "            B_test[p] = test.FVC.values[test.Patient == p] - a*test.Weeks.values[test.Patient == p]\n",
    "            P_test[p] = test.Percent.values[test.Patient == p] \n",
    "            WEEK[p] = test.Weeks.values[test.Patient == p]\n",
    "    \n",
    "        for k in sub.Patient_Week.values:\n",
    "            p, w = k.split('_')\n",
    "            w = int(w) \n",
    "    \n",
    "            fvc = A_test[p] * w + B_test[p]\n",
    "            sub.loc[sub.Patient_Week == k, 'FVC'] = fvc\n",
    "            sub.loc[sub.Patient_Week == k, 'Confidence'] = (\n",
    "                P_test[p] - A_test[p] * abs(WEEK[p] - w) \n",
    "        ) \n",
    "    \n",
    "        _sub = sub[[\"Patient_Week\",\"FVC\",\"Confidence\"]].copy()\n",
    "        subs.append(_sub)\n",
    "    \n",
    "    N = len(subs)\n",
    "    sub = subs[0].copy() # ref\n",
    "    sub[\"FVC\"] = 0\n",
    "    sub[\"Confidence\"] = 0\n",
    "    for i in range(N):\n",
    "        sub[\"FVC\"] += subs[0][\"FVC\"] * (1/N)\n",
    "        sub[\"Confidence\"] += subs[0][\"Confidence\"] * (1/N)\n",
    "\n",
    "    sub[[\"Patient_Week\",\"FVC\",\"Confidence\"]].to_csv(\"submission_img.csv\", index=False)\n",
    "\n",
    "    img_sub = sub[[\"Patient_Week\",\"FVC\",\"Confidence\"]].copy()\n",
    "\n",
    "    ROOT = \"../input/osic-pulmonary-fibrosis-progression\"\n",
    "    BATCH_SIZE=128\n",
    "    \n",
    "    tr = pd.read_csv(f\"{ROOT}/train.csv\")\n",
    "    tr.drop_duplicates(keep=False, inplace=True, subset=['Patient','Weeks'])\n",
    "    chunk = pd.read_csv(f\"{ROOT}/test.csv\")\n",
    "    \n",
    "    print(\"add infos\")\n",
    "    sub = pd.read_csv(f\"{ROOT}/sample_submission.csv\")\n",
    "    sub['Patient'] = sub['Patient_Week'].apply(lambda x:x.split('_')[0])\n",
    "    sub['Weeks'] = sub['Patient_Week'].apply(lambda x: int(x.split('_')[-1]))\n",
    "    sub =  sub[['Patient','Weeks','Confidence','Patient_Week']]\n",
    "    sub = sub.merge(chunk.drop('Weeks', axis=1), on=\"Patient\")\n",
    "\n",
    "    tr['WHERE'] = 'train'\n",
    "    chunk['WHERE'] = 'val'\n",
    "    sub['WHERE'] = 'test'\n",
    "    data = pd.concat([tr, chunk, sub])\n",
    "\n",
    "    data['min_week'] = data['Weeks']\n",
    "    data.loc[data.WHERE=='test','min_week'] = np.nan\n",
    "    data['min_week'] = data.groupby('Patient')['min_week'].transform('min')\n",
    "\n",
    "    base = data.loc[data.Weeks == data.min_week]\n",
    "    base = base[['Patient','FVC']].copy()\n",
    "    base.columns = ['Patient','min_FVC']\n",
    "    base['nb'] = 1\n",
    "    base['nb'] = base.groupby('Patient')['nb'].transform('cumsum')\n",
    "    base = base[base.nb==1]\n",
    "    base.drop('nb', axis=1, inplace=True)\n",
    "\n",
    "    data = data.merge(base, on='Patient', how='left')\n",
    "    data['base_week'] = data['Weeks'] - data['min_week']\n",
    "    del base\n",
    "\n",
    "    COLS = ['Sex','SmokingStatus'] #,'Age'\n",
    "    FE = []\n",
    "    for col in COLS:\n",
    "        for mod in data[col].unique():\n",
    "            FE.append(mod)\n",
    "            data[mod] = (data[col] == mod).astype(int)\n",
    "\n",
    "    #\n",
    "    data['age'] = (data['Age'] - data['Age'].min() ) / ( data['Age'].max() - data['Age'].min() )\n",
    "    data['BASE'] = (data['min_FVC'] - data['min_FVC'].min() ) / ( data['min_FVC'].max() - data['min_FVC'].min() )\n",
    "    data['week'] = (data['base_week'] - data['base_week'].min() ) / ( data['base_week'].max() - data['base_week'].min() )\n",
    "    #data['percent'] = (data['Percent'] - data['Percent'].min() ) / ( data['Percent'].max() - data['Percent'].min() )\n",
    "    FE += ['age','week','BASE']\n",
    "\n",
    "    tr = data.loc[data.WHERE=='train']\n",
    "    chunk = data.loc[data.WHERE=='val']\n",
    "    sub = data.loc[data.WHERE=='test']\n",
    "    del data\n",
    "\n",
    "    C1, C2 = tf.constant(70, dtype='float32'), tf.constant(1000, dtype=\"float32\")\n",
    "\n",
    "    y = tr['FVC'].values\n",
    "    z = tr[FE].values\n",
    "    ze = sub[FE].values\n",
    "    nh = z.shape[1]\n",
    "    pe = np.zeros((ze.shape[0], 3))\n",
    "    pred = np.zeros((z.shape[0], 3))\n",
    "\n",
    "    net = make_model(nh)\n",
    "    print(net.summary())\n",
    "    print(net.count_params())\n",
    "\n",
    "    NFOLD = 2 # originally 5\n",
    "    kf = KFold(n_splits=NFOLD)\n",
    "\n",
    "    cnt = 0\n",
    "    EPOCHS = 600\n",
    "    for tr_idx, val_idx in kf.split(z):\n",
    "        cnt += 1\n",
    "        print(f\"FOLD {cnt}\")\n",
    "        net = make_model(nh)\n",
    "        net.fit(z[tr_idx], y[tr_idx], batch_size=BATCH_SIZE, epochs=EPOCHS, \n",
    "                validation_data=(z[val_idx], y[val_idx]), verbose=0) #\n",
    "        print(\"train\", net.evaluate(z[tr_idx], y[tr_idx], verbose=0, batch_size=BATCH_SIZE))\n",
    "        print(\"val\", net.evaluate(z[val_idx], y[val_idx], verbose=0, batch_size=BATCH_SIZE))\n",
    "        print(\"predict val...\")\n",
    "        pred[val_idx] = net.predict(z[val_idx], batch_size=BATCH_SIZE, verbose=0)\n",
    "        print(\"predict test...\")\n",
    "        pe += net.predict(ze, batch_size=BATCH_SIZE, verbose=0) / NFOLD\n",
    "\n",
    "    sigma_opt = mean_absolute_error(y, pred[:, 1])\n",
    "    unc = pred[:,2] - pred[:, 0]\n",
    "    sigma_mean = np.mean(unc)\n",
    "    print(sigma_opt, sigma_mean)\n",
    "\n",
    "    idxs = np.random.randint(0, y.shape[0], 100)\n",
    "    plt.plot(y[idxs], label=\"ground truth\")\n",
    "    plt.plot(pred[idxs, 0], label=\"q25\")\n",
    "    plt.plot(pred[idxs, 1], label=\"q50\")\n",
    "    plt.plot(pred[idxs, 2], label=\"q75\")\n",
    "    plt.legend(loc=\"best\")\n",
    "    plt.show()\n",
    "\n",
    "    print(unc.min(), unc.mean(), unc.max(), (unc>=0).mean())\n",
    "\n",
    "    plt.hist(unc)\n",
    "    plt.title(\"uncertainty in prediction\")\n",
    "    plt.show()\n",
    "\n",
    "    # PREDICTION\n",
    "    sub['FVC1'] = 1.*pe[:, 1]\n",
    "    sub['Confidence1'] = pe[:, 2] - pe[:, 0]\n",
    "    subm = sub[['Patient_Week','FVC','Confidence','FVC1','Confidence1']].copy()\n",
    "    subm.loc[~subm.FVC1.isnull()].head(10)\n",
    "\n",
    "    subm.loc[~subm.FVC1.isnull(),'FVC'] = subm.loc[~subm.FVC1.isnull(),'FVC1']\n",
    "    sigma_mean = 60\n",
    "    if sigma_mean<sigma_mean:\n",
    "        subm['Confidence'] = sigma_opt\n",
    "    else:\n",
    "        subm.loc[~subm.FVC1.isnull(),'Confidence'] = subm.loc[~subm.FVC1.isnull(),'Confidence1']\n",
    "\n",
    "    otest = pd.read_csv('../input/osic-pulmonary-fibrosis-progression/test.csv')\n",
    "    for i in range(len(otest)):\n",
    "        subm.loc[subm['Patient_Week']==otest.Patient[i]+'_'+str(otest.Weeks[i]), 'FVC'] = otest.FVC[i]\n",
    "        subm.loc[subm['Patient_Week']==otest.Patient[i]+'_'+str(otest.Weeks[i]), 'Confidence'] = 0.1\n",
    "\n",
    "    subm[[\"Patient_Week\",\"FVC\",\"Confidence\"]].to_csv(\"submission_regression.csv\", index=False)\n",
    "\n",
    "    reg_sub = subm[[\"Patient_Week\",\"FVC\",\"Confidence\"]].copy()\n",
    "\n",
    "    df1 = img_sub.sort_values(by=['Patient_Week'], ascending=True).reset_index(drop=True)\n",
    "    df2 = reg_sub.sort_values(by=['Patient_Week'], ascending=True).reset_index(drop=True)\n",
    "\n",
    "    df = df1[['Patient_Week']].copy()\n",
    "    df['FVC'] = (0.45*df1['FVC'] + 0.55*df2['FVC'])\n",
    "    df['Confidence'] = (0.45*df1['Confidence'] + 0.55*df2['Confidence'])\n",
    "    df.head()\n",
    "\n",
    "    df.to_csv('submission.csv', index=False)\n",
    "\n",
    "    # calculate accuracy metrics\n",
    "    mae = mean_absolute_error(merged_df['FVC_actual'], merged_df['FVC_pred'])\n",
    "    rmse = mean_squared_error(merged_df['FVC_actual'], merged_df['FVC_pred'], squared=False)\n",
    "    print(\"Mean Absolute Error:\", mae)\n",
    "    print(\"Root Mean Squared Error:\", rmse)"
   ]
  },
  {
   "cell_type": "code",
   "execution_count": null,
   "metadata": {},
   "outputs": [],
   "source": [
    "seeds = [42, 1234, 2020, 5555]\n",
    "run_diff_seeds(seeds[1])"
   ]
  },
  {
   "cell_type": "code",
   "execution_count": null,
   "metadata": {},
   "outputs": [],
   "source": [
    "run_diff_seeds(seeds[2])"
   ]
  },
  {
   "cell_type": "code",
   "execution_count": null,
   "metadata": {},
   "outputs": [],
   "source": [
    "run_diff_seeds(seeds[3])"
   ]
  }
 ],
 "metadata": {
  "accelerator": "GPU",
  "colab": {
   "gpuType": "T4",
   "machine_shape": "hm",
   "provenance": []
  },
  "kernelspec": {
   "display_name": "Python 3 (ipykernel)",
   "language": "python",
   "name": "python3"
  },
  "language_info": {
   "codemirror_mode": {
    "name": "ipython",
    "version": 3
   },
   "file_extension": ".py",
   "mimetype": "text/x-python",
   "name": "python",
   "nbconvert_exporter": "python",
   "pygments_lexer": "ipython3",
   "version": "3.10.12"
  },
  "widgets": {
   "application/vnd.jupyter.widget-state+json": {
    "14df26ed879549a08fe949e705ee6b12": {
     "model_module": "@jupyter-widgets/controls",
     "model_module_version": "1.5.0",
     "model_name": "ProgressStyleModel",
     "state": {
      "_model_module": "@jupyter-widgets/controls",
      "_model_module_version": "1.5.0",
      "_model_name": "ProgressStyleModel",
      "_view_count": null,
      "_view_module": "@jupyter-widgets/base",
      "_view_module_version": "1.2.0",
      "_view_name": "StyleView",
      "bar_color": null,
      "description_width": ""
     }
    },
    "21d92cc906cb4d2281c726f483ae8500": {
     "model_module": "@jupyter-widgets/controls",
     "model_module_version": "1.5.0",
     "model_name": "DescriptionStyleModel",
     "state": {
      "_model_module": "@jupyter-widgets/controls",
      "_model_module_version": "1.5.0",
      "_model_name": "DescriptionStyleModel",
      "_view_count": null,
      "_view_module": "@jupyter-widgets/base",
      "_view_module_version": "1.2.0",
      "_view_name": "StyleView",
      "description_width": ""
     }
    },
    "2210f55006fb460ab65ba41314783928": {
     "model_module": "@jupyter-widgets/base",
     "model_module_version": "1.2.0",
     "model_name": "LayoutModel",
     "state": {
      "_model_module": "@jupyter-widgets/base",
      "_model_module_version": "1.2.0",
      "_model_name": "LayoutModel",
      "_view_count": null,
      "_view_module": "@jupyter-widgets/base",
      "_view_module_version": "1.2.0",
      "_view_name": "LayoutView",
      "align_content": null,
      "align_items": null,
      "align_self": null,
      "border": null,
      "bottom": null,
      "display": null,
      "flex": null,
      "flex_flow": null,
      "grid_area": null,
      "grid_auto_columns": null,
      "grid_auto_flow": null,
      "grid_auto_rows": null,
      "grid_column": null,
      "grid_gap": null,
      "grid_row": null,
      "grid_template_areas": null,
      "grid_template_columns": null,
      "grid_template_rows": null,
      "height": null,
      "justify_content": null,
      "justify_items": null,
      "left": null,
      "margin": null,
      "max_height": null,
      "max_width": null,
      "min_height": null,
      "min_width": null,
      "object_fit": null,
      "object_position": null,
      "order": null,
      "overflow": null,
      "overflow_x": null,
      "overflow_y": null,
      "padding": null,
      "right": null,
      "top": null,
      "visibility": null,
      "width": "20px"
     }
    },
    "2a3f3ca880c44f299d9ec58d39d3ac11": {
     "model_module": "@jupyter-widgets/controls",
     "model_module_version": "1.5.0",
     "model_name": "HTMLModel",
     "state": {
      "_dom_classes": [],
      "_model_module": "@jupyter-widgets/controls",
      "_model_module_version": "1.5.0",
      "_model_name": "HTMLModel",
      "_view_count": null,
      "_view_module": "@jupyter-widgets/controls",
      "_view_module_version": "1.5.0",
      "_view_name": "HTMLView",
      "description": "",
      "description_tooltip": null,
      "layout": "IPY_MODEL_79a3fb8addde43839dab6fddbab764c3",
      "placeholder": "​",
      "style": "IPY_MODEL_21d92cc906cb4d2281c726f483ae8500",
      "value": ""
     }
    },
    "3d0919274e444167bc9678b2849bb9b8": {
     "model_module": "@jupyter-widgets/base",
     "model_module_version": "1.2.0",
     "model_name": "LayoutModel",
     "state": {
      "_model_module": "@jupyter-widgets/base",
      "_model_module_version": "1.2.0",
      "_model_name": "LayoutModel",
      "_view_count": null,
      "_view_module": "@jupyter-widgets/base",
      "_view_module_version": "1.2.0",
      "_view_name": "LayoutView",
      "align_content": null,
      "align_items": null,
      "align_self": null,
      "border": null,
      "bottom": null,
      "display": null,
      "flex": null,
      "flex_flow": null,
      "grid_area": null,
      "grid_auto_columns": null,
      "grid_auto_flow": null,
      "grid_auto_rows": null,
      "grid_column": null,
      "grid_gap": null,
      "grid_row": null,
      "grid_template_areas": null,
      "grid_template_columns": null,
      "grid_template_rows": null,
      "height": null,
      "justify_content": null,
      "justify_items": null,
      "left": null,
      "margin": null,
      "max_height": null,
      "max_width": null,
      "min_height": null,
      "min_width": null,
      "object_fit": null,
      "object_position": null,
      "order": null,
      "overflow": null,
      "overflow_x": null,
      "overflow_y": null,
      "padding": null,
      "right": null,
      "top": null,
      "visibility": null,
      "width": null
     }
    },
    "566894d0008c48c1977d5bd8608c4e77": {
     "model_module": "@jupyter-widgets/base",
     "model_module_version": "1.2.0",
     "model_name": "LayoutModel",
     "state": {
      "_model_module": "@jupyter-widgets/base",
      "_model_module_version": "1.2.0",
      "_model_name": "LayoutModel",
      "_view_count": null,
      "_view_module": "@jupyter-widgets/base",
      "_view_module_version": "1.2.0",
      "_view_name": "LayoutView",
      "align_content": null,
      "align_items": null,
      "align_self": null,
      "border": null,
      "bottom": null,
      "display": null,
      "flex": null,
      "flex_flow": null,
      "grid_area": null,
      "grid_auto_columns": null,
      "grid_auto_flow": null,
      "grid_auto_rows": null,
      "grid_column": null,
      "grid_gap": null,
      "grid_row": null,
      "grid_template_areas": null,
      "grid_template_columns": null,
      "grid_template_rows": null,
      "height": null,
      "justify_content": null,
      "justify_items": null,
      "left": null,
      "margin": null,
      "max_height": null,
      "max_width": null,
      "min_height": null,
      "min_width": null,
      "object_fit": null,
      "object_position": null,
      "order": null,
      "overflow": null,
      "overflow_x": null,
      "overflow_y": null,
      "padding": null,
      "right": null,
      "top": null,
      "visibility": null,
      "width": null
     }
    },
    "67ec71b175944767b9563406f7338f35": {
     "model_module": "@jupyter-widgets/controls",
     "model_module_version": "1.5.0",
     "model_name": "FloatProgressModel",
     "state": {
      "_dom_classes": [],
      "_model_module": "@jupyter-widgets/controls",
      "_model_module_version": "1.5.0",
      "_model_name": "FloatProgressModel",
      "_view_count": null,
      "_view_module": "@jupyter-widgets/controls",
      "_view_module_version": "1.5.0",
      "_view_name": "ProgressView",
      "bar_style": "success",
      "description": "",
      "description_tooltip": null,
      "layout": "IPY_MODEL_2210f55006fb460ab65ba41314783928",
      "max": 1,
      "min": 0,
      "orientation": "horizontal",
      "style": "IPY_MODEL_14df26ed879549a08fe949e705ee6b12",
      "value": 1
     }
    },
    "79a3fb8addde43839dab6fddbab764c3": {
     "model_module": "@jupyter-widgets/base",
     "model_module_version": "1.2.0",
     "model_name": "LayoutModel",
     "state": {
      "_model_module": "@jupyter-widgets/base",
      "_model_module_version": "1.2.0",
      "_model_name": "LayoutModel",
      "_view_count": null,
      "_view_module": "@jupyter-widgets/base",
      "_view_module_version": "1.2.0",
      "_view_name": "LayoutView",
      "align_content": null,
      "align_items": null,
      "align_self": null,
      "border": null,
      "bottom": null,
      "display": null,
      "flex": null,
      "flex_flow": null,
      "grid_area": null,
      "grid_auto_columns": null,
      "grid_auto_flow": null,
      "grid_auto_rows": null,
      "grid_column": null,
      "grid_gap": null,
      "grid_row": null,
      "grid_template_areas": null,
      "grid_template_columns": null,
      "grid_template_rows": null,
      "height": null,
      "justify_content": null,
      "justify_items": null,
      "left": null,
      "margin": null,
      "max_height": null,
      "max_width": null,
      "min_height": null,
      "min_width": null,
      "object_fit": null,
      "object_position": null,
      "order": null,
      "overflow": null,
      "overflow_x": null,
      "overflow_y": null,
      "padding": null,
      "right": null,
      "top": null,
      "visibility": null,
      "width": null
     }
    },
    "83109e824ec349a1b3ce45471afd8e12": {
     "model_module": "@jupyter-widgets/controls",
     "model_module_version": "1.5.0",
     "model_name": "HBoxModel",
     "state": {
      "_dom_classes": [],
      "_model_module": "@jupyter-widgets/controls",
      "_model_module_version": "1.5.0",
      "_model_name": "HBoxModel",
      "_view_count": null,
      "_view_module": "@jupyter-widgets/controls",
      "_view_module_version": "1.5.0",
      "_view_name": "HBoxView",
      "box_style": "",
      "children": [
       "IPY_MODEL_2a3f3ca880c44f299d9ec58d39d3ac11",
       "IPY_MODEL_67ec71b175944767b9563406f7338f35",
       "IPY_MODEL_e82d8e292bf14b4494e4b0b46d1747c2"
      ],
      "layout": "IPY_MODEL_3d0919274e444167bc9678b2849bb9b8"
     }
    },
    "9a049f2d67374b5599033d659571c193": {
     "model_module": "@jupyter-widgets/controls",
     "model_module_version": "1.5.0",
     "model_name": "DescriptionStyleModel",
     "state": {
      "_model_module": "@jupyter-widgets/controls",
      "_model_module_version": "1.5.0",
      "_model_name": "DescriptionStyleModel",
      "_view_count": null,
      "_view_module": "@jupyter-widgets/base",
      "_view_module_version": "1.2.0",
      "_view_name": "StyleView",
      "description_width": ""
     }
    },
    "e82d8e292bf14b4494e4b0b46d1747c2": {
     "model_module": "@jupyter-widgets/controls",
     "model_module_version": "1.5.0",
     "model_name": "HTMLModel",
     "state": {
      "_dom_classes": [],
      "_model_module": "@jupyter-widgets/controls",
      "_model_module_version": "1.5.0",
      "_model_name": "HTMLModel",
      "_view_count": null,
      "_view_module": "@jupyter-widgets/controls",
      "_view_module_version": "1.5.0",
      "_view_name": "HTMLView",
      "description": "",
      "description_tooltip": null,
      "layout": "IPY_MODEL_566894d0008c48c1977d5bd8608c4e77",
      "placeholder": "​",
      "style": "IPY_MODEL_9a049f2d67374b5599033d659571c193",
      "value": " 176/? [00:00&lt;00:00, 897.26it/s]"
     }
    }
   }
  }
 },
 "nbformat": 4,
 "nbformat_minor": 4
}
